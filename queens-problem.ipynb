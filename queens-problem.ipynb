{
  "cells": [
    {
      "cell_type": "markdown",
      "id": "e7093ecc",
      "metadata": {
        "id": "e7093ecc"
      },
      "source": [
        "### Install Dependency"
      ]
    },
    {
      "cell_type": "code",
      "execution_count": null,
      "id": "5f1499de",
      "metadata": {
        "id": "5f1499de"
      },
      "outputs": [],
      "source": [
        "%pip install -q matplotlib"
      ]
    },
    {
      "cell_type": "code",
      "execution_count": null,
      "id": "852c7120",
      "metadata": {
        "id": "852c7120"
      },
      "outputs": [],
      "source": [
        "import numpy as np\n",
        "import matplotlib.pyplot as plt\n",
        "from matplotlib import colors\n",
        "import math\n",
        "\n",
        "np.random.seed(1234)"
      ]
    },
    {
      "cell_type": "markdown",
      "id": "73bee1ae",
      "metadata": {
        "id": "73bee1ae"
      },
      "source": [
        "## Helper Function"
      ]
    },
    {
      "cell_type": "markdown",
      "id": "6d220e11",
      "metadata": {
        "id": "6d220e11"
      },
      "source": [
        "### Random Board Function"
      ]
    },
    {
      "cell_type": "code",
      "execution_count": null,
      "id": "846cbf2b",
      "metadata": {
        "id": "846cbf2b"
      },
      "outputs": [],
      "source": [
        "def random_board(n):\n",
        "    \"\"\"Creates a random board of size n x n. Note that only a single queen is placed in each column!\"\"\"\n",
        "\n",
        "    return(np.random.randint(0,n, size = n))"
      ]
    },
    {
      "cell_type": "markdown",
      "id": "25c54122",
      "metadata": {
        "id": "25c54122"
      },
      "source": [
        "### Conflicts Board Function"
      ]
    },
    {
      "cell_type": "code",
      "execution_count": null,
      "id": "6fa04509",
      "metadata": {
        "id": "6fa04509"
      },
      "outputs": [],
      "source": [
        "def comb2(n): return n*(n-1)//2 # this is n choose 2 equivalent to math.comb(n, 2); // is int division\n",
        "\n",
        "def conflicts(board):\n",
        "    \"\"\"Calculate the number of conflicts, i.e., the objective function.\"\"\"\n",
        "\n",
        "    n = len(board)\n",
        "\n",
        "    horizontal_cnt = [0] * n\n",
        "    diagonal1_cnt = [0] * 2 * n\n",
        "    diagonal2_cnt = [0] * 2 * n\n",
        "\n",
        "    for i in range(n):\n",
        "        horizontal_cnt[board[i]] += 1\n",
        "        diagonal1_cnt[i + board[i]] += 1\n",
        "        diagonal2_cnt[i - board[i] + n] += 1\n",
        "\n",
        "    return sum(map(comb2, horizontal_cnt + diagonal1_cnt + diagonal2_cnt))"
      ]
    },
    {
      "cell_type": "markdown",
      "id": "954d05dc",
      "metadata": {
        "id": "954d05dc"
      },
      "source": [
        "### Show Board Function"
      ]
    },
    {
      "cell_type": "code",
      "execution_count": null,
      "id": "380538a7",
      "metadata": {
        "id": "380538a7"
      },
      "outputs": [],
      "source": [
        "# decrease the font size to fit larger boards\n",
        "def show_board(board, cols = ['white', 'gray'], fontsize = 48):\n",
        "    \"\"\"display the board\"\"\"\n",
        "\n",
        "    n = len(board)\n",
        "\n",
        "    # create chess board display\n",
        "    display = np.zeros([n,n])\n",
        "    for i in range(n):\n",
        "        for j in range(n):\n",
        "            if (((i+j) % 2) != 0):\n",
        "                display[i,j] = 1\n",
        "\n",
        "    cmap = colors.ListedColormap(cols)\n",
        "    fig, ax = plt.subplots()\n",
        "    ax.imshow(display, cmap = cmap,\n",
        "              norm = colors.BoundaryNorm(range(len(cols)+1), cmap.N))\n",
        "    ax.set_xticks([])\n",
        "    ax.set_yticks([])\n",
        "\n",
        "    # place queens. Note: Unicode u265B is a black queen\n",
        "    for j in range(n):\n",
        "        plt.text(j, board[j], u\"\\u265B\", fontsize = fontsize,\n",
        "                 horizontalalignment = 'center',\n",
        "                 verticalalignment = 'center')\n",
        "\n",
        "    print(f\"Board with {conflicts(board)} conflicts.\")\n",
        "    plt.show()"
      ]
    },
    {
      "cell_type": "code",
      "execution_count": null,
      "id": "7a3858d8",
      "metadata": {
        "id": "7a3858d8",
        "outputId": "1ec6035a-9607-44c8-d843-66bc781a31e1",
        "colab": {
          "base_uri": "https://localhost:8080/",
          "height": 458
        }
      },
      "outputs": [
        {
          "output_type": "stream",
          "name": "stdout",
          "text": [
            "Board with 4 conflicts.\n"
          ]
        },
        {
          "output_type": "display_data",
          "data": {
            "text/plain": [
              "<Figure size 640x480 with 1 Axes>"
            ],
            "image/png": "[encoded data removed]"
          },
          "metadata": {}
        },
        {
          "output_type": "stream",
          "name": "stdout",
          "text": [
            "Queens (left to right) are at rows: [3 3 2 1]\n",
            "Number of conflicts: 4\n"
          ]
        }
      ],
      "source": [
        "board = random_board(4)\n",
        "\n",
        "show_board(board)\n",
        "print(f\"Queens (left to right) are at rows: {board}\")\n",
        "print(f\"Number of conflicts: {conflicts(board)}\")"
      ]
    },
    {
      "cell_type": "markdown",
      "source": [
        "### Objective and Generate Neighbors Function"
      ],
      "metadata": {
        "id": "C3ooGLoxBIre"
      },
      "id": "C3ooGLoxBIre"
    },
    {
      "cell_type": "code",
      "execution_count": null,
      "id": "5ee35c50",
      "metadata": {
        "id": "5ee35c50"
      },
      "outputs": [],
      "source": [
        "import random\n",
        "\n",
        "# objective of the problem (find the highest value = 0)\n",
        "def objective(board):\n",
        "  return -conflicts(board)\n",
        "\n",
        "def generate_neighbors(board):\n",
        "  n = len(board)\n",
        "  neighbors = []\n",
        "  for col in range(n):\n",
        "    for row in range(n):\n",
        "      if board[col] != row:\n",
        "        new_board = board[:]\n",
        "        new_board[col] = row\n",
        "        neighbors.append(new_board)\n",
        "\n",
        "  return neighbors\n"
      ]
    },
    {
      "cell_type": "markdown",
      "source": [
        "## Algorithm"
      ],
      "metadata": {
        "id": "uYpsDCmCpD10"
      },
      "id": "uYpsDCmCpD10"
    },
    {
      "cell_type": "markdown",
      "id": "27ff2686",
      "metadata": {
        "id": "27ff2686"
      },
      "source": [
        "### Steepest-ascend Hill Climbing"
      ]
    },
    {
      "cell_type": "code",
      "execution_count": null,
      "id": "d01b90dc",
      "metadata": {
        "id": "d01b90dc",
        "outputId": "c230e055-bba7-4d23-a3df-dba6c2e0ea75",
        "colab": {
          "base_uri": "https://localhost:8080/",
          "height": 478
        }
      },
      "outputs": [
        {
          "output_type": "stream",
          "name": "stdout",
          "text": [
            "Board with 0 conflicts.\n"
          ]
        },
        {
          "output_type": "display_data",
          "data": {
            "text/plain": [
              "<Figure size 640x480 with 1 Axes>"
            ],
            "image/png": "[encoded data removed]"
          },
          "metadata": {}
        },
        {
          "output_type": "stream",
          "name": "stdout",
          "text": [
            "Queens (left to right) are at rows: [3, 5, 7, 2, 0, 6, 4, 1]\n",
            "Number of conflicts: 0\n"
          ]
        }
      ],
      "source": [
        "def steepest_ascend_hill_climbing(n, max_iter=1000):\n",
        "\n",
        "  current = [random.randint(0, n-1) for _ in range(n)]\n",
        "\n",
        "  for _ in range(max_iter):\n",
        "    current_objective = objective(current)\n",
        "    neighbors = generate_neighbors(current)\n",
        "\n",
        "    best_neighbors = max(neighbors, key=objective)\n",
        "    best_objective = objective(best_neighbors)\n",
        "\n",
        "    if best_objective <= current_objective:\n",
        "      return current\n",
        "\n",
        "    current = best_neighbors\n",
        "\n",
        "  return current\n",
        "\n",
        "\n",
        "solution = steepest_ascend_hill_climbing(8)\n",
        "\n",
        "show_board(solution)\n",
        "print(f\"Queens (left to right) are at rows: {solution}\")\n",
        "print(f\"Number of conflicts: {conflicts(solution)}\")"
      ]
    },
    {
      "cell_type": "markdown",
      "source": [],
      "metadata": {
        "id": "oixVQE6opDA1"
      },
      "id": "oixVQE6opDA1"
    },
    {
      "cell_type": "markdown",
      "metadata": {
        "id": "z3y33u6vAy6W"
      },
      "source": [
        "### Stochastic Hill Climbing"
      ],
      "id": "z3y33u6vAy6W"
    },
    {
      "cell_type": "code",
      "execution_count": null,
      "metadata": {
        "colab": {
          "base_uri": "https://localhost:8080/",
          "height": 478
        },
        "id": "HMkW9VhrAy6W",
        "outputId": "e42ba11f-5f61-45e3-8041-7834789f7cab"
      },
      "outputs": [
        {
          "output_type": "stream",
          "name": "stdout",
          "text": [
            "Board with 1 conflicts.\n"
          ]
        },
        {
          "output_type": "display_data",
          "data": {
            "text/plain": [
              "<Figure size 640x480 with 1 Axes>"
            ],
            "image/png": "[encoded data removed]"
          },
          "metadata": {}
        },
        {
          "output_type": "stream",
          "name": "stdout",
          "text": [
            "Queens (left to right) are at rows: [4, 1, 7, 5, 2, 6, 3, 0]\n",
            "Number of conflicts: 1\n"
          ]
        }
      ],
      "source": [
        "def stochastic_hill_climbing(n, max_iter=100):\n",
        "\n",
        "  current = [random.randint(0, n-1) for _ in range(n)]\n",
        "\n",
        "  for _ in range(max_iter):\n",
        "    current_objective = objective(current)\n",
        "    neighbors = generate_neighbors(current)\n",
        "\n",
        "    best_neighbor = random.choice(neighbors)\n",
        "    best_objective = objective(best_neighbor)\n",
        "\n",
        "    if best_objective > current_objective:\n",
        "      current = best_neighbor\n",
        "\n",
        "  return current\n",
        "\n",
        "solution = stochastic_hill_climbing(8)\n",
        "\n",
        "show_board(solution)\n",
        "print(f\"Queens (left to right) are at rows: {solution}\")\n",
        "print(f\"Number of conflicts: {conflicts(solution)}\")\n"
      ],
      "id": "HMkW9VhrAy6W"
    },
    {
      "cell_type": "markdown",
      "metadata": {
        "id": "WTGtz1slFmK5"
      },
      "source": [
        "### First Hill Climbing"
      ],
      "id": "WTGtz1slFmK5"
    },
    {
      "cell_type": "code",
      "execution_count": null,
      "metadata": {
        "outputId": "b5ca8ea5-320f-4f74-9d4c-c9eb875a7e97",
        "colab": {
          "base_uri": "https://localhost:8080/",
          "height": 478
        },
        "id": "-WFpAiiaFmK6"
      },
      "outputs": [
        {
          "output_type": "stream",
          "name": "stdout",
          "text": [
            "Board with 2 conflicts.\n"
          ]
        },
        {
          "output_type": "display_data",
          "data": {
            "text/plain": [
              "<Figure size 640x480 with 1 Axes>"
            ],
            "image/png": "[encoded data removed]"
          },
          "metadata": {}
        },
        {
          "output_type": "stream",
          "name": "stdout",
          "text": [
            "Queens (left to right) are at rows: [1, 5, 1, 6, 0, 7, 4, 0]\n",
            "Number of conflicts: 2\n"
          ]
        }
      ],
      "source": [
        "def first_choice_hill_climbing(n, max_iter=100):\n",
        "\n",
        "  current = [random.randint(0, n-1) for _ in range(n)]\n",
        "\n",
        "  for _ in range(max_iter):\n",
        "    current_objective = objective(current)\n",
        "    neighbors = generate_neighbors(current)\n",
        "    random.shuffle(neighbors)\n",
        "\n",
        "    for neighbor in neighbors:\n",
        "      neighbor_objective = objective(neighbor)\n",
        "      if neighbor_objective > current_objective:\n",
        "        current = neighbor\n",
        "        break\n",
        "\n",
        "  return current\n",
        "\n",
        "solution = first_hill_climbing(8)\n",
        "\n",
        "show_board(solution)\n",
        "print(f\"Queens (left to right) are at rows: {solution}\")\n",
        "print(f\"Number of conflicts: {conflicts(solution)}\")\n"
      ],
      "id": "-WFpAiiaFmK6"
    },
    {
      "cell_type": "markdown",
      "source": [],
      "metadata": {
        "id": "Kh10AKuIqDFU"
      },
      "id": "Kh10AKuIqDFU"
    },
    {
      "cell_type": "markdown",
      "source": [
        "## Random Restarts"
      ],
      "metadata": {
        "id": "t4E2yq_hlUaM"
      },
      "id": "t4E2yq_hlUaM"
    },
    {
      "cell_type": "code",
      "source": [
        "def random_restart(hill_climb_func, n, restarts=100, max_iter=100):\n",
        "  best_solution = None\n",
        "  best_score = float(\"-inf\")\n",
        "\n",
        "\n",
        "  for i in range(restarts):\n",
        "    solution = hill_climb_func(n, max_iter)\n",
        "    score = objective(solution)\n",
        "\n",
        "    print(f\"Restart {i+1}: score = {score}\")\n",
        "\n",
        "    if score > best_score:\n",
        "      best_solution = solution\n",
        "      best_score = score\n",
        "      print(f\"  -> New best! Score = {best_score}\")\n",
        "\n",
        "    if best_score == 0:\n",
        "      print(\"  -> Found perfect solution, stopping early!\")\n",
        "      break\n",
        "\n",
        "  return best_solution"
      ],
      "metadata": {
        "id": "x1C66FxSlT9V"
      },
      "id": "x1C66FxSlT9V",
      "execution_count": null,
      "outputs": []
    },
    {
      "cell_type": "markdown",
      "source": [
        "### Steepest with random restart"
      ],
      "metadata": {
        "id": "KM1zwe-KnNid"
      },
      "id": "KM1zwe-KnNid"
    },
    {
      "cell_type": "code",
      "source": [
        "# run steepest with random restart\n",
        "solution = random_restart(steepest_ascend_hill_climbing, 8, restarts=100)\n",
        "show_board(solution)\n",
        "print(f\"Best solution (Steepest): {solution}\")\n",
        "print(f\"Conflicts: {conflicts(solution)}\")"
      ],
      "metadata": {
        "colab": {
          "base_uri": "https://localhost:8080/",
          "height": 530
        },
        "id": "buvB03vjnToV",
        "outputId": "457b4507-351f-4fba-d86e-12defe4b6388"
      },
      "id": "buvB03vjnToV",
      "execution_count": null,
      "outputs": [
        {
          "output_type": "stream",
          "name": "stdout",
          "text": [
            "Restart 1: score = 0\n",
            "  -> New best! Score = 0\n",
            "  -> Found perfect solution, stopping early!\n",
            "Board with 0 conflicts.\n"
          ]
        },
        {
          "output_type": "display_data",
          "data": {
            "text/plain": [
              "<Figure size 640x480 with 1 Axes>"
            ],
            "image/png": "[encoded data removed]"
          },
          "metadata": {}
        },
        {
          "output_type": "stream",
          "name": "stdout",
          "text": [
            "Best solution (Steepest): [2, 6, 1, 7, 5, 3, 0, 4]\n",
            "Conflicts: 0\n"
          ]
        }
      ]
    },
    {
      "cell_type": "markdown",
      "source": [
        "### Stochastic with random restart"
      ],
      "metadata": {
        "id": "j87H-5WgnTa8"
      },
      "id": "j87H-5WgnTa8"
    },
    {
      "cell_type": "code",
      "source": [
        "# run stochastic with random restart\n",
        "solution = random_restart(stochastic_hill_climbing, 8, restarts=100)\n",
        "show_board(solution)\n",
        "print(f\"Best solution (Stochastic): {solution}\")\n",
        "print(f\"Conflicts: {conflicts(solution)}\")"
      ],
      "metadata": {
        "colab": {
          "base_uri": "https://localhost:8080/",
          "height": 600
        },
        "id": "yue64_I8nix0",
        "outputId": "99b9b5da-0a68-46a4-fbab-f9ff11d0f2ee"
      },
      "id": "yue64_I8nix0",
      "execution_count": null,
      "outputs": [
        {
          "output_type": "stream",
          "name": "stdout",
          "text": [
            "Restart 1: score = -3\n",
            "  -> New best! Score = -3\n",
            "Restart 2: score = -2\n",
            "  -> New best! Score = -2\n",
            "Restart 3: score = 0\n",
            "  -> New best! Score = 0\n",
            "  -> Found perfect solution, stopping early!\n",
            "Board with 0 conflicts.\n"
          ]
        },
        {
          "output_type": "display_data",
          "data": {
            "text/plain": [
              "<Figure size 640x480 with 1 Axes>"
            ],
            "image/png": "[encoded data removed]"
          },
          "metadata": {}
        },
        {
          "output_type": "stream",
          "name": "stdout",
          "text": [
            "Best solution (Stochastic): [5, 0, 4, 1, 7, 2, 6, 3]\n",
            "Conflicts: 0\n"
          ]
        }
      ]
    },
    {
      "cell_type": "markdown",
      "source": [
        "### First-choice with random restart"
      ],
      "metadata": {
        "id": "tOTn5Dbtn0sE"
      },
      "id": "tOTn5Dbtn0sE"
    },
    {
      "cell_type": "code",
      "source": [
        "# run first-choice with random restart\n",
        "solution = random_restart(first_choice_hill_climbing, 8, restarts=100)\n",
        "show_board(solution)\n",
        "print(f\"Best solution (First-choice): {solution}\")\n",
        "print(f\"Conflicts: {conflicts(solution)}\")\n"
      ],
      "metadata": {
        "colab": {
          "base_uri": "https://localhost:8080/",
          "height": 652
        },
        "id": "7XmFsOH3l5zO",
        "outputId": "40cade0f-cdd8-4380-b1a2-10ba4a530c46"
      },
      "id": "7XmFsOH3l5zO",
      "execution_count": null,
      "outputs": [
        {
          "output_type": "stream",
          "name": "stdout",
          "text": [
            "Restart 1: score = -2\n",
            "  -> New best! Score = -2\n",
            "Restart 2: score = -2\n",
            "Restart 3: score = -1\n",
            "  -> New best! Score = -1\n",
            "Restart 4: score = -1\n",
            "Restart 5: score = -1\n",
            "Restart 6: score = 0\n",
            "  -> New best! Score = 0\n",
            "  -> Found perfect solution, stopping early!\n",
            "Board with 0 conflicts.\n"
          ]
        },
        {
          "output_type": "display_data",
          "data": {
            "text/plain": [
              "<Figure size 640x480 with 1 Axes>"
            ],
            "image/png": "[encoded data removed]"
          },
          "metadata": {}
        },
        {
          "output_type": "stream",
          "name": "stdout",
          "text": [
            "Best solution (First-choice): [3, 1, 6, 4, 0, 7, 5, 2]\n",
            "Conflicts: 0\n"
          ]
        }
      ]
    },
    {
      "cell_type": "markdown",
      "source": [
        "## Simulated Annealing"
      ],
      "metadata": {
        "id": "MW4sxtG7nidk"
      },
      "id": "MW4sxtG7nidk"
    },
    {
      "cell_type": "markdown",
      "source": [
        "### Simple task of Simulated Annealing\n",
        "\n"
      ],
      "metadata": {
        "id": "-tQGOuwq8v0O"
      },
      "id": "-tQGOuwq8v0O"
    },
    {
      "cell_type": "code",
      "source": [
        "import random\n",
        "\n",
        "numbers = [1, 2, 3, 4, 5, 6]\n",
        "f_values = [5, 2, 9, 4, 7, 6]\n",
        "\n",
        "# Objective: find largest number of f(x) values\n",
        "def objective(x):\n",
        "  index = numbers.index(x)\n",
        "  return f_values[index]\n",
        "\n",
        "def generate_neighbors(x):\n",
        "  idx = numbers.index(x)\n",
        "  choices = []\n",
        "  if idx > 0:\n",
        "    choices.append(numbers[idx - 1])\n",
        "  if idx < len(numbers) - 1:\n",
        "    choices.append(numbers[idx + 1])\n",
        "  return random.choice(choices)\n",
        "\n",
        "\n",
        "def simple_simulated_annealing(tolerance=8, max_iter=20, initial_temperature=5, cooling_rate=0.8):\n",
        "  current = random.choice(numbers)\n",
        "  current_value = objective(current)\n",
        "  temperature = initial_temperature\n",
        "\n",
        "  print(f\"Start: x={current}, f(x)={current_value}\")\n",
        "\n",
        "  for i in range(max_iter):\n",
        "    neighbor = generate_neighbors(current)\n",
        "    neighbor_value = objective(neighbor)\n",
        "\n",
        "    delta = neighbor_value - current_value\n",
        "\n",
        "    if delta > 0:\n",
        "      current = neighbor\n",
        "      current_value = neighbor_value\n",
        "    else:\n",
        "      # Probabilitas menerima solusi lebih buruk\n",
        "      p = math.exp(delta / temperature)\n",
        "      if random.random() < p:\n",
        "          current = neighbor\n",
        "          current_value = neighbor_value\n",
        "\n",
        "    temperature *= cooling_rate\n",
        "\n",
        "    if current_value >= tolerance:\n",
        "      break\n",
        "\n",
        "  return current, current_value\n",
        "\n",
        "\n",
        "solution = simple_simulated_annealing()\n",
        "print(f\"Solution: {solution}\")"
      ],
      "metadata": {
        "colab": {
          "base_uri": "https://localhost:8080/"
        },
        "id": "TwCY7PWQQLOl",
        "outputId": "97436677-bb7b-4f32-e8cf-9a1caed673b1"
      },
      "id": "TwCY7PWQQLOl",
      "execution_count": null,
      "outputs": [
        {
          "output_type": "stream",
          "name": "stdout",
          "text": [
            "Start: x=5, f(x)=7\n",
            "Solution: (3, 9)\n"
          ]
        }
      ]
    },
    {
      "cell_type": "code",
      "source": [
        "import math, random\n",
        "\n",
        "def objective(x):\n",
        "  return math.pow(x, 2)\n",
        "\n",
        "def generate_neighbors(x):\n",
        "  return x + random.uniform(-1, 1)\n",
        "\n",
        "def simple_simulated_annealing(tolerance=1, max_iter=10, initial_temperature=10, cooling_rate=0.95):\n",
        "\n",
        "  current = random.randint(-10, 10)\n",
        "  current_cost = objective(current)\n",
        "  temperature = initial_temperature\n",
        "\n",
        "\n",
        "  for _ in range(max_iter):\n",
        "    neighbor = generate_neighbors(current)\n",
        "    neighbor_cost = objective(neighbor)\n",
        "\n",
        "    delta = neighbor_cost - current_cost\n",
        "\n",
        "    if delta < 0:\n",
        "      current = neighbor\n",
        "      current_cost = neighbor_cost\n",
        "    else:\n",
        "      p = math.exp(-delta / temperature)\n",
        "      if random.random() < p:\n",
        "        current = neighbor\n",
        "        current_cost = neighbor_cost\n",
        "\n",
        "    temperature *= cooling_rate\n",
        "\n",
        "    if current_cost < tolerance:\n",
        "      break\n",
        "\n",
        "    print(f\"T={temperature:.4f}, cost={current_cost}, delta={delta}, accepted={current == neighbor}\")\n",
        "\n",
        "  return current, current_cost\n",
        "\n",
        "\n",
        "x, cost = simple_simulated_annealing()\n",
        "print(f\"best solution: x={x}, cost={cost}\")\n",
        "print(f\"Compare solution: {x**2}\")"
      ],
      "metadata": {
        "colab": {
          "base_uri": "https://localhost:8080/"
        },
        "id": "KL_PkdPE9KPN",
        "outputId": "a1d31977-dafd-4db7-db4b-28b2a5d8dd4c"
      },
      "id": "KL_PkdPE9KPN",
      "execution_count": null,
      "outputs": [
        {
          "output_type": "stream",
          "name": "stdout",
          "text": [
            "T=9.5000, cost=14.115091950167532, delta=-1.8849080498324682, accepted=True\n",
            "T=9.0250, cost=20.08890044843741, delta=5.973808498269879, accepted=True\n",
            "T=8.5738, cost=18.117669767666047, delta=-1.971230680771363, accepted=True\n",
            "T=8.1451, cost=15.225273833465193, delta=-2.892395934200854, accepted=True\n",
            "T=7.7378, cost=11.11508482196637, delta=-4.110189011498823, accepted=True\n",
            "T=7.3509, cost=8.033477081761486, delta=-3.081607740204884, accepted=True\n",
            "T=6.9834, cost=6.958007921493914, delta=-1.0754691602675717, accepted=True\n",
            "T=6.6342, cost=5.1855279646616115, delta=-1.7724799568323029, accepted=True\n",
            "T=6.3025, cost=2.1345204132126714, delta=-3.05100755144894, accepted=True\n",
            "best solution: x=0.9266605555217049, cost=0.8586997851597947\n",
            "Compare solution: 0.8586997851597947\n"
          ]
        }
      ]
    },
    {
      "cell_type": "markdown",
      "source": [
        "### Implementation Simulated Annealing"
      ],
      "metadata": {
        "id": "HUC6TEFp84ZE"
      },
      "id": "HUC6TEFp84ZE"
    },
    {
      "cell_type": "code",
      "source": [
        "def simulated_annealing(n, max_iter=1000, initial_temperature=100, cooling_rate=0.99):\n",
        "  # Step 1, choice random solution\n",
        "  current = [random.randint(0, n-1) for _ in range(n)]\n",
        "  current_cost = conflicts(current)\n",
        "  temperature = initial_temperature\n",
        "\n",
        "  for _ in range(max_iter):\n",
        "    if temperature < 0.00001:\n",
        "      break\n",
        "\n",
        "    # Step 2, generate neighbor, choice, and check the conflict of the neighbor\n",
        "    neighbors = generate_neighbors(current)\n",
        "    random_neighbor = random.choice(neighbors)\n",
        "    neighbor_cost = conflicts(random_neighbor)\n",
        "\n",
        "    # Step 3, Calculate delta, example (2 - 3) --> -1\n",
        "    delta = neighbor_cost - current_cost\n",
        "\n",
        "\n",
        "    if delta < 0: # choice the best neighbor\n",
        "      # assign the best neighbor to current\n",
        "      current = random_neighbor\n",
        "      current_cost = neighbor_cost\n",
        "\n",
        "    else:\n",
        "      # probability\n",
        "      p = math.exp(-delta / temperature)\n",
        "      if random.random() < p:\n",
        "        current = random_neighbor\n",
        "        current_cost = neighbor_cost\n",
        "\n",
        "    # calculate temperature (tolerance)\n",
        "    temperature *= cooling_rate\n",
        "\n",
        "\n",
        "    if current_cost == 0:\n",
        "      break\n",
        "\n",
        "    print(f\"T={temperature:.4f}, cost={current_cost}, delta={delta}, accepted={current == random_neighbor}\")\n",
        "\n",
        "  return current\n",
        "\n",
        "solution = simulated_annealing(8)\n",
        "\n",
        "show_board(solution)\n",
        "print(f\"Queens (left to right) are at rows: {solution}\")\n",
        "print(f\"Number of conflicts: {conflicts(solution)}\")"
      ],
      "metadata": {
        "colab": {
          "base_uri": "https://localhost:8080/",
          "height": 1000
        },
        "collapsed": true,
        "id": "R30fhewzrFfN",
        "outputId": "5d1de5ee-6a72-4e10-e941-6375c830cc00"
      },
      "id": "R30fhewzrFfN",
      "execution_count": null,
      "outputs": [
        {
          "output_type": "stream",
          "name": "stdout",
          "text": [
            "T=99.0000, cost=6, delta=1, accepted=True\n",
            "T=98.0100, cost=9, delta=3, accepted=True\n",
            "T=97.0299, cost=6, delta=-3, accepted=True\n",
            "T=96.0596, cost=8, delta=2, accepted=True\n",
            "T=95.0990, cost=8, delta=0, accepted=True\n",
            "T=94.1480, cost=10, delta=2, accepted=True\n",
            "T=93.2065, cost=9, delta=-1, accepted=True\n",
            "T=92.2745, cost=7, delta=-2, accepted=True\n",
            "T=91.3517, cost=6, delta=-1, accepted=True\n",
            "T=90.4382, cost=4, delta=-2, accepted=True\n",
            "T=89.5338, cost=4, delta=0, accepted=True\n",
            "T=88.6385, cost=5, delta=1, accepted=True\n",
            "T=87.7521, cost=5, delta=0, accepted=True\n",
            "T=86.8746, cost=7, delta=2, accepted=True\n",
            "T=86.0058, cost=6, delta=-1, accepted=True\n",
            "T=85.1458, cost=7, delta=1, accepted=True\n",
            "T=84.2943, cost=10, delta=3, accepted=True\n",
            "T=83.4514, cost=8, delta=-2, accepted=True\n",
            "T=82.6169, cost=6, delta=-2, accepted=True\n",
            "T=81.7907, cost=8, delta=2, accepted=True\n",
            "T=80.9728, cost=6, delta=-2, accepted=True\n",
            "T=80.1631, cost=4, delta=-2, accepted=True\n",
            "T=79.3614, cost=1, delta=-3, accepted=True\n",
            "T=78.5678, cost=2, delta=1, accepted=True\n",
            "T=77.7821, cost=2, delta=0, accepted=True\n",
            "T=77.0043, cost=3, delta=1, accepted=True\n",
            "T=76.2343, cost=3, delta=4, accepted=False\n",
            "T=75.4719, cost=4, delta=1, accepted=True\n",
            "T=74.7172, cost=4, delta=0, accepted=True\n",
            "T=73.9700, cost=5, delta=1, accepted=True\n",
            "T=73.2303, cost=5, delta=0, accepted=True\n",
            "T=72.4980, cost=5, delta=0, accepted=True\n",
            "T=71.7731, cost=4, delta=-1, accepted=True\n",
            "T=71.0553, cost=4, delta=0, accepted=True\n",
            "T=70.3448, cost=6, delta=2, accepted=True\n",
            "T=69.6413, cost=7, delta=1, accepted=True\n",
            "T=68.9449, cost=9, delta=2, accepted=True\n",
            "T=68.2555, cost=12, delta=3, accepted=True\n",
            "T=67.5729, cost=10, delta=-2, accepted=True\n",
            "T=66.8972, cost=9, delta=-1, accepted=True\n",
            "T=66.2282, cost=6, delta=-3, accepted=True\n",
            "T=65.5659, cost=9, delta=3, accepted=True\n",
            "T=64.9103, cost=12, delta=3, accepted=True\n",
            "T=64.2612, cost=9, delta=-3, accepted=True\n",
            "T=63.6185, cost=12, delta=3, accepted=True\n",
            "T=62.9824, cost=11, delta=-1, accepted=True\n",
            "T=62.3525, cost=9, delta=-2, accepted=True\n",
            "T=61.7290, cost=12, delta=3, accepted=True\n",
            "T=61.1117, cost=13, delta=1, accepted=True\n",
            "T=60.5006, cost=9, delta=-4, accepted=True\n",
            "T=59.8956, cost=7, delta=-2, accepted=True\n",
            "T=59.2966, cost=5, delta=-2, accepted=True\n",
            "T=58.7037, cost=6, delta=1, accepted=True\n",
            "T=58.1166, cost=8, delta=2, accepted=True\n",
            "T=57.5355, cost=8, delta=0, accepted=True\n",
            "T=56.9601, cost=9, delta=1, accepted=True\n",
            "T=56.3905, cost=8, delta=-1, accepted=True\n",
            "T=55.8266, cost=7, delta=-1, accepted=True\n",
            "T=55.2683, cost=8, delta=1, accepted=True\n",
            "T=54.7157, cost=7, delta=-1, accepted=True\n",
            "T=54.1685, cost=7, delta=0, accepted=True\n",
            "T=53.6268, cost=6, delta=-1, accepted=True\n",
            "T=53.0906, cost=6, delta=0, accepted=True\n",
            "T=52.5596, cost=6, delta=0, accepted=True\n",
            "T=52.0341, cost=5, delta=-1, accepted=True\n",
            "T=51.5137, cost=7, delta=2, accepted=True\n",
            "T=50.9986, cost=9, delta=2, accepted=True\n",
            "T=50.4886, cost=7, delta=-2, accepted=True\n",
            "T=49.9837, cost=5, delta=-2, accepted=True\n",
            "T=49.4839, cost=6, delta=1, accepted=True\n",
            "T=48.9890, cost=6, delta=0, accepted=True\n",
            "T=48.4991, cost=7, delta=1, accepted=True\n",
            "T=48.0141, cost=6, delta=-1, accepted=True\n",
            "T=47.5340, cost=6, delta=0, accepted=True\n",
            "T=47.0587, cost=3, delta=-3, accepted=True\n",
            "T=46.5881, cost=5, delta=2, accepted=True\n",
            "T=46.1222, cost=5, delta=0, accepted=True\n",
            "T=45.6610, cost=4, delta=-1, accepted=True\n",
            "T=45.2044, cost=5, delta=1, accepted=True\n",
            "T=44.7523, cost=6, delta=1, accepted=True\n",
            "T=44.3048, cost=5, delta=-1, accepted=True\n",
            "T=43.8618, cost=4, delta=-1, accepted=True\n",
            "T=43.4231, cost=4, delta=0, accepted=True\n",
            "T=42.9889, cost=6, delta=2, accepted=True\n",
            "T=42.5590, cost=6, delta=0, accepted=True\n",
            "T=42.1334, cost=8, delta=2, accepted=True\n",
            "T=41.7121, cost=8, delta=0, accepted=True\n",
            "T=41.2950, cost=9, delta=1, accepted=True\n",
            "T=40.8820, cost=9, delta=0, accepted=True\n",
            "T=40.4732, cost=10, delta=1, accepted=True\n",
            "T=40.0685, cost=11, delta=1, accepted=True\n",
            "T=39.6678, cost=10, delta=-1, accepted=True\n",
            "T=39.2711, cost=8, delta=-2, accepted=True\n",
            "T=38.8784, cost=8, delta=0, accepted=True\n",
            "T=38.4896, cost=7, delta=-1, accepted=True\n",
            "T=38.1047, cost=5, delta=-2, accepted=True\n",
            "T=37.7237, cost=4, delta=-1, accepted=True\n",
            "T=37.3464, cost=4, delta=0, accepted=True\n",
            "T=36.9730, cost=5, delta=1, accepted=True\n",
            "T=36.6032, cost=5, delta=0, accepted=True\n",
            "T=36.2372, cost=6, delta=1, accepted=True\n",
            "T=35.8748, cost=4, delta=-2, accepted=True\n",
            "T=35.5161, cost=5, delta=1, accepted=True\n",
            "T=35.1609, cost=8, delta=3, accepted=True\n",
            "T=34.8093, cost=8, delta=0, accepted=True\n",
            "T=34.4612, cost=9, delta=1, accepted=True\n",
            "T=34.1166, cost=8, delta=-1, accepted=True\n",
            "T=33.7754, cost=12, delta=4, accepted=True\n",
            "T=33.4377, cost=10, delta=-2, accepted=True\n",
            "T=33.1033, cost=11, delta=1, accepted=True\n",
            "T=32.7723, cost=12, delta=1, accepted=True\n",
            "T=32.4446, cost=10, delta=-2, accepted=True\n",
            "T=32.1201, cost=8, delta=-2, accepted=True\n",
            "T=31.7989, cost=9, delta=1, accepted=True\n",
            "T=31.4809, cost=10, delta=1, accepted=True\n",
            "T=31.1661, cost=8, delta=-2, accepted=True\n",
            "T=30.8544, cost=10, delta=2, accepted=True\n",
            "T=30.5459, cost=14, delta=4, accepted=True\n",
            "T=30.2404, cost=12, delta=-2, accepted=True\n",
            "T=29.9380, cost=11, delta=-1, accepted=True\n",
            "T=29.6387, cost=8, delta=-3, accepted=True\n",
            "T=29.3423, cost=10, delta=2, accepted=True\n",
            "T=29.0488, cost=10, delta=0, accepted=True\n",
            "T=28.7584, cost=7, delta=-3, accepted=True\n",
            "T=28.4708, cost=9, delta=2, accepted=True\n",
            "T=28.1861, cost=7, delta=-2, accepted=True\n",
            "T=27.9042, cost=9, delta=2, accepted=True\n",
            "T=27.6252, cost=10, delta=1, accepted=True\n",
            "T=27.3489, cost=10, delta=0, accepted=True\n",
            "T=27.0754, cost=11, delta=1, accepted=True\n",
            "T=26.8047, cost=8, delta=-3, accepted=True\n",
            "T=26.5366, cost=9, delta=1, accepted=True\n",
            "T=26.2713, cost=12, delta=3, accepted=True\n",
            "T=26.0085, cost=11, delta=-1, accepted=True\n",
            "T=25.7485, cost=10, delta=-1, accepted=True\n",
            "T=25.4910, cost=12, delta=2, accepted=True\n",
            "T=25.2361, cost=12, delta=0, accepted=True\n",
            "T=24.9837, cost=12, delta=0, accepted=True\n",
            "T=24.7339, cost=10, delta=-2, accepted=True\n",
            "T=24.4865, cost=8, delta=-2, accepted=True\n",
            "T=24.2417, cost=7, delta=-1, accepted=True\n",
            "T=23.9992, cost=7, delta=0, accepted=True\n",
            "T=23.7593, cost=6, delta=-1, accepted=True\n",
            "T=23.5217, cost=6, delta=0, accepted=True\n",
            "T=23.2864, cost=8, delta=2, accepted=True\n",
            "T=23.0536, cost=7, delta=-1, accepted=True\n",
            "T=22.8230, cost=7, delta=0, accepted=True\n",
            "T=22.5948, cost=9, delta=2, accepted=True\n",
            "T=22.3689, cost=8, delta=-1, accepted=True\n",
            "T=22.1452, cost=7, delta=-1, accepted=True\n",
            "T=21.9237, cost=9, delta=2, accepted=True\n",
            "T=21.7045, cost=10, delta=1, accepted=True\n",
            "T=21.4874, cost=10, delta=0, accepted=True\n",
            "T=21.2726, cost=9, delta=-1, accepted=True\n",
            "T=21.0598, cost=7, delta=-2, accepted=True\n",
            "T=20.8492, cost=6, delta=-1, accepted=True\n",
            "T=20.6408, cost=4, delta=-2, accepted=True\n",
            "T=20.4343, cost=6, delta=2, accepted=True\n",
            "T=20.2300, cost=6, delta=0, accepted=True\n",
            "T=20.0277, cost=6, delta=0, accepted=True\n",
            "T=19.8274, cost=5, delta=-1, accepted=True\n",
            "T=19.6292, cost=6, delta=1, accepted=True\n",
            "T=19.4329, cost=4, delta=-2, accepted=True\n",
            "T=19.2385, cost=4, delta=0, accepted=True\n",
            "T=19.0461, cost=4, delta=0, accepted=True\n",
            "T=18.8557, cost=5, delta=1, accepted=True\n",
            "T=18.6671, cost=6, delta=1, accepted=True\n",
            "T=18.4805, cost=6, delta=0, accepted=True\n",
            "T=18.2957, cost=6, delta=0, accepted=True\n",
            "T=18.1127, cost=6, delta=0, accepted=True\n",
            "T=17.9316, cost=6, delta=1, accepted=False\n",
            "T=17.7523, cost=4, delta=-2, accepted=True\n",
            "T=17.5747, cost=6, delta=2, accepted=True\n",
            "T=17.3990, cost=7, delta=1, accepted=True\n",
            "T=17.2250, cost=10, delta=3, accepted=True\n",
            "T=17.0527, cost=8, delta=-2, accepted=True\n",
            "T=16.8822, cost=6, delta=-2, accepted=True\n",
            "T=16.7134, cost=8, delta=2, accepted=True\n",
            "T=16.5463, cost=8, delta=0, accepted=True\n",
            "T=16.3808, cost=6, delta=-2, accepted=True\n",
            "T=16.2170, cost=6, delta=1, accepted=False\n",
            "T=16.0548, cost=6, delta=0, accepted=True\n",
            "T=15.8943, cost=7, delta=1, accepted=True\n",
            "T=15.7353, cost=6, delta=-1, accepted=True\n",
            "T=15.5780, cost=6, delta=0, accepted=True\n",
            "T=15.4222, cost=7, delta=1, accepted=True\n",
            "T=15.2680, cost=7, delta=0, accepted=True\n",
            "T=15.1153, cost=7, delta=0, accepted=True\n",
            "T=14.9641, cost=9, delta=2, accepted=True\n",
            "T=14.8145, cost=11, delta=2, accepted=True\n",
            "T=14.6664, cost=9, delta=-2, accepted=True\n",
            "T=14.5197, cost=11, delta=2, accepted=True\n",
            "T=14.3745, cost=9, delta=-2, accepted=True\n",
            "T=14.2307, cost=11, delta=2, accepted=True\n",
            "T=14.0884, cost=9, delta=-2, accepted=True\n",
            "T=13.9476, cost=7, delta=-2, accepted=True\n",
            "T=13.8081, cost=7, delta=0, accepted=True\n",
            "T=13.6700, cost=8, delta=1, accepted=True\n",
            "T=13.5333, cost=8, delta=0, accepted=True\n",
            "T=13.3980, cost=6, delta=-2, accepted=True\n",
            "T=13.2640, cost=7, delta=1, accepted=True\n",
            "T=13.1313, cost=6, delta=-1, accepted=True\n",
            "T=13.0000, cost=8, delta=2, accepted=True\n",
            "T=12.8700, cost=8, delta=0, accepted=True\n",
            "T=12.7413, cost=7, delta=-1, accepted=True\n",
            "T=12.6139, cost=7, delta=1, accepted=False\n",
            "T=12.4878, cost=8, delta=1, accepted=True\n",
            "T=12.3629, cost=8, delta=0, accepted=True\n",
            "T=12.2393, cost=6, delta=-2, accepted=True\n",
            "T=12.1169, cost=7, delta=1, accepted=True\n",
            "T=11.9957, cost=8, delta=1, accepted=True\n",
            "T=11.8758, cost=9, delta=1, accepted=True\n",
            "T=11.7570, cost=10, delta=1, accepted=True\n",
            "T=11.6394, cost=9, delta=-1, accepted=True\n",
            "T=11.5230, cost=9, delta=0, accepted=True\n",
            "T=11.4078, cost=10, delta=1, accepted=True\n",
            "T=11.2937, cost=7, delta=-3, accepted=True\n",
            "T=11.1808, cost=9, delta=2, accepted=True\n",
            "T=11.0690, cost=8, delta=-1, accepted=True\n",
            "T=10.9583, cost=8, delta=0, accepted=True\n",
            "T=10.8487, cost=10, delta=2, accepted=True\n",
            "T=10.7402, cost=9, delta=-1, accepted=True\n",
            "T=10.6328, cost=10, delta=1, accepted=True\n",
            "T=10.5265, cost=9, delta=-1, accepted=True\n",
            "T=10.4212, cost=10, delta=1, accepted=True\n",
            "T=10.3170, cost=9, delta=-1, accepted=True\n",
            "T=10.2138, cost=11, delta=2, accepted=True\n",
            "T=10.1117, cost=11, delta=0, accepted=True\n",
            "T=10.0106, cost=7, delta=-4, accepted=True\n",
            "T=9.9105, cost=7, delta=2, accepted=False\n",
            "T=9.8114, cost=8, delta=1, accepted=True\n",
            "T=9.7133, cost=7, delta=-1, accepted=True\n",
            "T=9.6161, cost=7, delta=0, accepted=True\n",
            "T=9.5200, cost=6, delta=-1, accepted=True\n",
            "T=9.4248, cost=8, delta=2, accepted=True\n",
            "T=9.3305, cost=11, delta=3, accepted=True\n",
            "T=9.2372, cost=11, delta=0, accepted=True\n",
            "T=9.1448, cost=9, delta=-2, accepted=True\n",
            "T=9.0534, cost=10, delta=1, accepted=True\n",
            "T=8.9629, cost=12, delta=2, accepted=True\n",
            "T=8.8732, cost=9, delta=-3, accepted=True\n",
            "T=8.7845, cost=9, delta=0, accepted=True\n",
            "T=8.6967, cost=7, delta=-2, accepted=True\n",
            "T=8.6097, cost=7, delta=0, accepted=True\n",
            "T=8.5236, cost=9, delta=2, accepted=True\n",
            "T=8.4384, cost=10, delta=1, accepted=True\n",
            "T=8.3540, cost=10, delta=0, accepted=True\n",
            "T=8.2704, cost=10, delta=0, accepted=True\n",
            "T=8.1877, cost=7, delta=-3, accepted=True\n",
            "T=8.1059, cost=8, delta=1, accepted=True\n",
            "T=8.0248, cost=9, delta=1, accepted=True\n",
            "T=7.9445, cost=7, delta=-2, accepted=True\n",
            "T=7.8651, cost=7, delta=0, accepted=True\n",
            "T=7.7864, cost=7, delta=0, accepted=True\n",
            "T=7.7086, cost=8, delta=1, accepted=True\n",
            "T=7.6315, cost=8, delta=0, accepted=True\n",
            "T=7.5552, cost=10, delta=2, accepted=True\n",
            "T=7.4796, cost=11, delta=1, accepted=True\n",
            "T=7.4048, cost=8, delta=-3, accepted=True\n",
            "T=7.3308, cost=9, delta=1, accepted=True\n",
            "T=7.2575, cost=10, delta=1, accepted=True\n",
            "T=7.1849, cost=11, delta=1, accepted=True\n",
            "T=7.1131, cost=14, delta=3, accepted=True\n",
            "T=7.0419, cost=15, delta=1, accepted=True\n",
            "T=6.9715, cost=12, delta=-3, accepted=True\n",
            "T=6.9018, cost=8, delta=-4, accepted=True\n",
            "T=6.8328, cost=7, delta=-1, accepted=True\n",
            "T=6.7644, cost=6, delta=-1, accepted=True\n",
            "T=6.6968, cost=4, delta=-2, accepted=True\n",
            "T=6.6298, cost=4, delta=2, accepted=False\n",
            "T=6.5635, cost=4, delta=3, accepted=False\n",
            "T=6.4979, cost=4, delta=1, accepted=False\n",
            "T=6.4329, cost=4, delta=2, accepted=False\n",
            "T=6.3686, cost=4, delta=2, accepted=False\n",
            "T=6.3049, cost=6, delta=2, accepted=True\n",
            "T=6.2419, cost=9, delta=3, accepted=True\n",
            "T=6.1794, cost=7, delta=-2, accepted=True\n",
            "T=6.1176, cost=9, delta=2, accepted=True\n",
            "T=6.0565, cost=8, delta=-1, accepted=True\n",
            "T=5.9959, cost=9, delta=1, accepted=True\n",
            "T=5.9359, cost=9, delta=0, accepted=True\n",
            "T=5.8766, cost=7, delta=-2, accepted=True\n",
            "T=5.8178, cost=6, delta=-1, accepted=True\n",
            "T=5.7596, cost=9, delta=3, accepted=True\n",
            "T=5.7020, cost=7, delta=-2, accepted=True\n",
            "T=5.6450, cost=9, delta=2, accepted=True\n",
            "T=5.5886, cost=8, delta=-1, accepted=True\n",
            "T=5.5327, cost=11, delta=3, accepted=True\n",
            "T=5.4774, cost=9, delta=-2, accepted=True\n",
            "T=5.4226, cost=8, delta=-1, accepted=True\n",
            "T=5.3684, cost=9, delta=1, accepted=True\n",
            "T=5.3147, cost=10, delta=1, accepted=True\n",
            "T=5.2615, cost=8, delta=-2, accepted=True\n",
            "T=5.2089, cost=7, delta=-1, accepted=True\n",
            "T=5.1568, cost=8, delta=1, accepted=True\n",
            "T=5.1053, cost=7, delta=-1, accepted=True\n",
            "T=5.0542, cost=8, delta=1, accepted=True\n",
            "T=5.0037, cost=10, delta=2, accepted=True\n",
            "T=4.9536, cost=8, delta=-2, accepted=True\n",
            "T=4.9041, cost=10, delta=2, accepted=True\n",
            "T=4.8550, cost=9, delta=-1, accepted=True\n",
            "T=4.8065, cost=9, delta=0, accepted=True\n",
            "T=4.7584, cost=7, delta=-2, accepted=True\n",
            "T=4.7108, cost=8, delta=1, accepted=True\n",
            "T=4.6637, cost=11, delta=3, accepted=True\n",
            "T=4.6171, cost=8, delta=-3, accepted=True\n",
            "T=4.5709, cost=7, delta=-1, accepted=True\n",
            "T=4.5252, cost=7, delta=0, accepted=True\n",
            "T=4.4800, cost=7, delta=0, accepted=True\n",
            "T=4.4352, cost=7, delta=0, accepted=True\n",
            "T=4.3908, cost=7, delta=0, accepted=True\n",
            "T=4.3469, cost=7, delta=0, accepted=True\n",
            "T=4.3034, cost=6, delta=-1, accepted=True\n",
            "T=4.2604, cost=7, delta=1, accepted=True\n",
            "T=4.2178, cost=7, delta=0, accepted=True\n",
            "T=4.1756, cost=8, delta=1, accepted=True\n",
            "T=4.1339, cost=7, delta=-1, accepted=True\n",
            "T=4.0925, cost=5, delta=-2, accepted=True\n",
            "T=4.0516, cost=6, delta=1, accepted=True\n",
            "T=4.0111, cost=6, delta=1, accepted=False\n",
            "T=3.9710, cost=9, delta=3, accepted=True\n",
            "T=3.9313, cost=9, delta=3, accepted=False\n",
            "T=3.8920, cost=6, delta=-3, accepted=True\n",
            "T=3.8530, cost=6, delta=0, accepted=True\n",
            "T=3.8145, cost=6, delta=2, accepted=False\n",
            "T=3.7764, cost=6, delta=0, accepted=True\n",
            "T=3.7386, cost=5, delta=-1, accepted=True\n",
            "T=3.7012, cost=5, delta=3, accepted=False\n",
            "T=3.6642, cost=7, delta=2, accepted=True\n",
            "T=3.6276, cost=6, delta=-1, accepted=True\n",
            "T=3.5913, cost=6, delta=0, accepted=True\n",
            "T=3.5554, cost=7, delta=1, accepted=True\n",
            "T=3.5198, cost=7, delta=0, accepted=True\n",
            "T=3.4846, cost=5, delta=-2, accepted=True\n",
            "T=3.4498, cost=5, delta=1, accepted=False\n",
            "T=3.4153, cost=5, delta=0, accepted=True\n",
            "T=3.3811, cost=6, delta=1, accepted=True\n",
            "T=3.3473, cost=5, delta=-1, accepted=True\n",
            "T=3.3138, cost=6, delta=1, accepted=True\n",
            "T=3.2807, cost=5, delta=-1, accepted=True\n",
            "T=3.2479, cost=4, delta=-1, accepted=True\n",
            "T=3.2154, cost=6, delta=2, accepted=True\n",
            "T=3.1833, cost=7, delta=1, accepted=True\n",
            "T=3.1514, cost=5, delta=-2, accepted=True\n",
            "T=3.1199, cost=5, delta=2, accepted=False\n",
            "T=3.0887, cost=5, delta=0, accepted=True\n",
            "T=3.0578, cost=7, delta=2, accepted=True\n",
            "T=3.0272, cost=7, delta=1, accepted=False\n",
            "T=2.9970, cost=8, delta=1, accepted=True\n",
            "T=2.9670, cost=7, delta=-1, accepted=True\n",
            "T=2.9373, cost=6, delta=-1, accepted=True\n",
            "T=2.9080, cost=7, delta=1, accepted=True\n",
            "T=2.8789, cost=8, delta=1, accepted=True\n",
            "T=2.8501, cost=9, delta=1, accepted=True\n",
            "T=2.8216, cost=6, delta=-3, accepted=True\n",
            "T=2.7934, cost=6, delta=0, accepted=True\n",
            "T=2.7654, cost=5, delta=-1, accepted=True\n",
            "T=2.7378, cost=8, delta=3, accepted=True\n",
            "T=2.7104, cost=8, delta=0, accepted=True\n",
            "T=2.6833, cost=8, delta=0, accepted=True\n",
            "T=2.6565, cost=9, delta=1, accepted=True\n",
            "T=2.6299, cost=9, delta=0, accepted=True\n",
            "T=2.6036, cost=9, delta=2, accepted=False\n",
            "T=2.5776, cost=9, delta=0, accepted=True\n",
            "T=2.5518, cost=7, delta=-2, accepted=True\n",
            "T=2.5263, cost=6, delta=-1, accepted=True\n",
            "T=2.5010, cost=6, delta=3, accepted=False\n",
            "T=2.4760, cost=7, delta=1, accepted=True\n",
            "T=2.4512, cost=5, delta=-2, accepted=True\n",
            "T=2.4267, cost=4, delta=-1, accepted=True\n",
            "T=2.4025, cost=4, delta=1, accepted=False\n",
            "T=2.3784, cost=5, delta=1, accepted=True\n",
            "T=2.3547, cost=5, delta=0, accepted=True\n",
            "T=2.3311, cost=4, delta=-1, accepted=True\n",
            "T=2.3078, cost=7, delta=3, accepted=True\n",
            "T=2.2847, cost=9, delta=2, accepted=True\n",
            "T=2.2619, cost=7, delta=-2, accepted=True\n",
            "T=2.2393, cost=5, delta=-2, accepted=True\n",
            "T=2.2169, cost=5, delta=0, accepted=True\n",
            "T=2.1947, cost=5, delta=3, accepted=False\n",
            "T=2.1727, cost=5, delta=0, accepted=True\n",
            "T=2.1510, cost=4, delta=-1, accepted=True\n",
            "T=2.1295, cost=4, delta=0, accepted=True\n",
            "T=2.1082, cost=4, delta=3, accepted=False\n",
            "T=2.0871, cost=6, delta=2, accepted=True\n",
            "T=2.0663, cost=5, delta=-1, accepted=True\n",
            "T=2.0456, cost=5, delta=0, accepted=True\n",
            "T=2.0251, cost=5, delta=2, accepted=False\n",
            "T=2.0049, cost=6, delta=1, accepted=True\n",
            "T=1.9848, cost=6, delta=3, accepted=False\n",
            "T=1.9650, cost=5, delta=-1, accepted=True\n",
            "T=1.9453, cost=4, delta=-1, accepted=True\n",
            "T=1.9259, cost=4, delta=3, accepted=False\n",
            "T=1.9066, cost=4, delta=2, accepted=False\n",
            "T=1.8876, cost=5, delta=1, accepted=True\n",
            "T=1.8687, cost=5, delta=4, accepted=False\n",
            "T=1.8500, cost=6, delta=1, accepted=True\n",
            "T=1.8315, cost=7, delta=1, accepted=True\n",
            "T=1.8132, cost=7, delta=0, accepted=True\n",
            "T=1.7951, cost=6, delta=-1, accepted=True\n",
            "T=1.7771, cost=5, delta=-1, accepted=True\n",
            "T=1.7593, cost=6, delta=1, accepted=True\n",
            "T=1.7417, cost=6, delta=2, accepted=False\n",
            "T=1.7243, cost=6, delta=0, accepted=True\n",
            "T=1.7071, cost=6, delta=1, accepted=False\n",
            "T=1.6900, cost=7, delta=1, accepted=True\n",
            "T=1.6731, cost=7, delta=2, accepted=False\n",
            "T=1.6564, cost=7, delta=4, accepted=False\n",
            "T=1.6398, cost=6, delta=-1, accepted=True\n",
            "T=1.6234, cost=4, delta=-2, accepted=True\n",
            "T=1.6072, cost=4, delta=0, accepted=True\n",
            "T=1.5911, cost=6, delta=2, accepted=True\n",
            "T=1.5752, cost=6, delta=3, accepted=False\n",
            "T=1.5594, cost=7, delta=1, accepted=True\n",
            "T=1.5439, cost=7, delta=3, accepted=False\n",
            "T=1.5284, cost=7, delta=2, accepted=False\n",
            "T=1.5131, cost=4, delta=-3, accepted=True\n",
            "T=1.4980, cost=4, delta=0, accepted=True\n",
            "T=1.4830, cost=4, delta=0, accepted=True\n",
            "T=1.4682, cost=4, delta=1, accepted=False\n",
            "T=1.4535, cost=3, delta=-1, accepted=True\n",
            "T=1.4390, cost=3, delta=2, accepted=False\n",
            "T=1.4246, cost=3, delta=1, accepted=False\n",
            "T=1.4103, cost=3, delta=2, accepted=False\n",
            "T=1.3962, cost=6, delta=3, accepted=True\n",
            "T=1.3823, cost=5, delta=-1, accepted=True\n",
            "T=1.3684, cost=8, delta=3, accepted=True\n",
            "T=1.3548, cost=8, delta=0, accepted=True\n",
            "T=1.3412, cost=8, delta=3, accepted=False\n",
            "T=1.3278, cost=8, delta=0, accepted=True\n",
            "T=1.3145, cost=7, delta=-1, accepted=True\n",
            "T=1.3014, cost=7, delta=0, accepted=True\n",
            "T=1.2884, cost=8, delta=1, accepted=True\n",
            "T=1.2755, cost=8, delta=0, accepted=True\n",
            "T=1.2627, cost=8, delta=0, accepted=True\n",
            "T=1.2501, cost=6, delta=-2, accepted=True\n",
            "T=1.2376, cost=6, delta=0, accepted=True\n",
            "T=1.2252, cost=5, delta=-1, accepted=True\n",
            "T=1.2130, cost=5, delta=1, accepted=False\n",
            "T=1.2008, cost=5, delta=2, accepted=False\n",
            "T=1.1888, cost=5, delta=2, accepted=False\n",
            "T=1.1769, cost=5, delta=0, accepted=True\n",
            "T=1.1652, cost=5, delta=0, accepted=True\n",
            "T=1.1535, cost=5, delta=1, accepted=False\n",
            "T=1.1420, cost=5, delta=3, accepted=False\n",
            "T=1.1306, cost=7, delta=2, accepted=True\n",
            "T=1.1193, cost=6, delta=-1, accepted=True\n",
            "T=1.1081, cost=6, delta=0, accepted=True\n",
            "T=1.0970, cost=6, delta=3, accepted=False\n",
            "T=1.0860, cost=4, delta=-2, accepted=True\n",
            "T=1.0752, cost=4, delta=3, accepted=False\n",
            "T=1.0644, cost=4, delta=0, accepted=True\n",
            "T=1.0538, cost=4, delta=2, accepted=False\n",
            "T=1.0432, cost=4, delta=0, accepted=True\n",
            "T=1.0328, cost=4, delta=1, accepted=False\n",
            "T=1.0225, cost=3, delta=-1, accepted=True\n",
            "T=1.0122, cost=4, delta=1, accepted=True\n",
            "T=1.0021, cost=4, delta=0, accepted=True\n",
            "T=0.9921, cost=4, delta=0, accepted=True\n",
            "T=0.9822, cost=3, delta=-1, accepted=True\n",
            "T=0.9724, cost=3, delta=0, accepted=True\n",
            "T=0.9626, cost=3, delta=2, accepted=False\n",
            "T=0.9530, cost=3, delta=3, accepted=False\n",
            "T=0.9435, cost=3, delta=2, accepted=False\n",
            "T=0.9340, cost=4, delta=1, accepted=True\n",
            "T=0.9247, cost=4, delta=1, accepted=False\n",
            "T=0.9155, cost=5, delta=1, accepted=True\n",
            "T=0.9063, cost=5, delta=3, accepted=False\n",
            "T=0.8972, cost=5, delta=0, accepted=True\n",
            "T=0.8883, cost=5, delta=0, accepted=True\n",
            "T=0.8794, cost=4, delta=-1, accepted=True\n",
            "T=0.8706, cost=4, delta=1, accepted=False\n",
            "T=0.8619, cost=4, delta=0, accepted=True\n",
            "T=0.8533, cost=4, delta=0, accepted=True\n",
            "T=0.8447, cost=4, delta=0, accepted=True\n",
            "T=0.8363, cost=4, delta=2, accepted=False\n",
            "T=0.8279, cost=4, delta=1, accepted=False\n",
            "T=0.8196, cost=4, delta=1, accepted=False\n",
            "T=0.8114, cost=5, delta=1, accepted=True\n",
            "T=0.8033, cost=5, delta=1, accepted=False\n",
            "T=0.7953, cost=5, delta=2, accepted=False\n",
            "T=0.7873, cost=3, delta=-2, accepted=True\n",
            "T=0.7795, cost=4, delta=1, accepted=True\n",
            "T=0.7717, cost=4, delta=0, accepted=True\n",
            "T=0.7640, cost=4, delta=1, accepted=False\n",
            "T=0.7563, cost=3, delta=-1, accepted=True\n",
            "T=0.7488, cost=3, delta=1, accepted=False\n",
            "T=0.7413, cost=4, delta=1, accepted=True\n",
            "T=0.7339, cost=4, delta=2, accepted=False\n",
            "T=0.7265, cost=4, delta=1, accepted=False\n",
            "T=0.7193, cost=4, delta=2, accepted=False\n",
            "T=0.7121, cost=2, delta=-2, accepted=True\n",
            "T=0.7049, cost=2, delta=1, accepted=False\n",
            "T=0.6979, cost=2, delta=2, accepted=False\n",
            "T=0.6909, cost=2, delta=2, accepted=False\n",
            "T=0.6840, cost=2, delta=1, accepted=False\n",
            "T=0.6772, cost=2, delta=2, accepted=False\n",
            "T=0.6704, cost=2, delta=2, accepted=False\n",
            "T=0.6637, cost=2, delta=2, accepted=False\n",
            "T=0.6570, cost=2, delta=2, accepted=False\n",
            "T=0.6505, cost=2, delta=0, accepted=True\n",
            "T=0.6440, cost=2, delta=0, accepted=True\n",
            "T=0.6375, cost=2, delta=1, accepted=False\n",
            "T=0.6312, cost=2, delta=1, accepted=False\n",
            "T=0.6248, cost=2, delta=4, accepted=False\n",
            "T=0.6186, cost=2, delta=2, accepted=False\n",
            "T=0.6124, cost=2, delta=1, accepted=False\n",
            "T=0.6063, cost=2, delta=1, accepted=False\n",
            "T=0.6002, cost=2, delta=3, accepted=False\n",
            "T=0.5942, cost=2, delta=1, accepted=False\n",
            "T=0.5883, cost=2, delta=3, accepted=False\n",
            "T=0.5824, cost=2, delta=4, accepted=False\n",
            "T=0.5766, cost=2, delta=3, accepted=False\n",
            "T=0.5708, cost=1, delta=-1, accepted=True\n",
            "T=0.5651, cost=1, delta=1, accepted=False\n",
            "T=0.5594, cost=1, delta=2, accepted=False\n",
            "T=0.5539, cost=1, delta=2, accepted=False\n",
            "T=0.5483, cost=1, delta=2, accepted=False\n",
            "T=0.5428, cost=1, delta=3, accepted=False\n",
            "T=0.5374, cost=1, delta=0, accepted=True\n",
            "T=0.5320, cost=2, delta=1, accepted=True\n",
            "T=0.5267, cost=2, delta=2, accepted=False\n",
            "T=0.5214, cost=2, delta=0, accepted=True\n",
            "T=0.5162, cost=2, delta=3, accepted=False\n",
            "T=0.5111, cost=2, delta=3, accepted=False\n",
            "T=0.5060, cost=2, delta=3, accepted=False\n",
            "T=0.5009, cost=2, delta=2, accepted=False\n",
            "T=0.4959, cost=2, delta=2, accepted=False\n",
            "T=0.4909, cost=2, delta=0, accepted=True\n",
            "T=0.4860, cost=2, delta=2, accepted=False\n",
            "T=0.4812, cost=2, delta=2, accepted=False\n",
            "T=0.4763, cost=2, delta=2, accepted=False\n",
            "T=0.4716, cost=2, delta=1, accepted=False\n",
            "T=0.4669, cost=2, delta=0, accepted=True\n",
            "T=0.4622, cost=2, delta=3, accepted=False\n",
            "T=0.4576, cost=2, delta=1, accepted=False\n",
            "T=0.4530, cost=2, delta=3, accepted=False\n",
            "T=0.4485, cost=2, delta=2, accepted=False\n",
            "T=0.4440, cost=2, delta=0, accepted=True\n",
            "T=0.4395, cost=2, delta=2, accepted=False\n",
            "T=0.4352, cost=2, delta=3, accepted=False\n",
            "T=0.4308, cost=2, delta=0, accepted=True\n",
            "T=0.4265, cost=2, delta=2, accepted=False\n",
            "T=0.4222, cost=2, delta=2, accepted=False\n",
            "T=0.4180, cost=2, delta=2, accepted=False\n",
            "T=0.4138, cost=2, delta=1, accepted=False\n",
            "T=0.4097, cost=2, delta=3, accepted=False\n",
            "T=0.4056, cost=2, delta=0, accepted=True\n",
            "T=0.4015, cost=2, delta=1, accepted=False\n",
            "T=0.3975, cost=2, delta=0, accepted=True\n",
            "T=0.3935, cost=2, delta=2, accepted=False\n",
            "T=0.3896, cost=2, delta=1, accepted=False\n",
            "T=0.3857, cost=2, delta=3, accepted=False\n",
            "T=0.3819, cost=2, delta=3, accepted=False\n",
            "T=0.3780, cost=2, delta=4, accepted=False\n",
            "T=0.3743, cost=2, delta=2, accepted=False\n",
            "T=0.3705, cost=2, delta=4, accepted=False\n",
            "T=0.3668, cost=1, delta=-1, accepted=True\n",
            "T=0.3631, cost=1, delta=2, accepted=False\n",
            "T=0.3595, cost=1, delta=1, accepted=False\n",
            "T=0.3559, cost=1, delta=3, accepted=False\n",
            "T=0.3524, cost=1, delta=2, accepted=False\n",
            "T=0.3488, cost=1, delta=2, accepted=False\n",
            "T=0.3453, cost=1, delta=4, accepted=False\n",
            "T=0.3419, cost=1, delta=1, accepted=False\n",
            "T=0.3385, cost=2, delta=1, accepted=True\n",
            "T=0.3351, cost=2, delta=2, accepted=False\n",
            "T=0.3317, cost=2, delta=4, accepted=False\n",
            "T=0.3284, cost=2, delta=2, accepted=False\n",
            "T=0.3251, cost=2, delta=2, accepted=False\n",
            "T=0.3219, cost=2, delta=3, accepted=False\n",
            "T=0.3187, cost=2, delta=2, accepted=False\n",
            "T=0.3155, cost=2, delta=0, accepted=True\n",
            "T=0.3123, cost=2, delta=3, accepted=False\n",
            "T=0.3092, cost=2, delta=0, accepted=True\n",
            "T=0.3061, cost=2, delta=1, accepted=False\n",
            "T=0.3030, cost=2, delta=0, accepted=True\n",
            "T=0.3000, cost=2, delta=3, accepted=False\n",
            "T=0.2970, cost=2, delta=1, accepted=False\n",
            "T=0.2940, cost=2, delta=1, accepted=False\n",
            "T=0.2911, cost=2, delta=1, accepted=False\n",
            "T=0.2882, cost=2, delta=1, accepted=False\n",
            "T=0.2853, cost=2, delta=3, accepted=False\n",
            "T=0.2825, cost=2, delta=3, accepted=False\n",
            "T=0.2796, cost=2, delta=0, accepted=True\n",
            "T=0.2768, cost=2, delta=1, accepted=False\n",
            "T=0.2741, cost=2, delta=2, accepted=False\n",
            "T=0.2713, cost=2, delta=2, accepted=False\n",
            "T=0.2686, cost=2, delta=2, accepted=False\n",
            "T=0.2659, cost=2, delta=1, accepted=False\n",
            "T=0.2633, cost=2, delta=1, accepted=False\n",
            "T=0.2606, cost=2, delta=3, accepted=False\n",
            "T=0.2580, cost=2, delta=1, accepted=False\n",
            "T=0.2554, cost=2, delta=1, accepted=False\n",
            "T=0.2529, cost=1, delta=-1, accepted=True\n",
            "T=0.2504, cost=1, delta=1, accepted=False\n",
            "T=0.2479, cost=1, delta=1, accepted=False\n",
            "T=0.2454, cost=1, delta=3, accepted=False\n",
            "T=0.2429, cost=1, delta=3, accepted=False\n",
            "T=0.2405, cost=1, delta=3, accepted=False\n",
            "T=0.2381, cost=1, delta=1, accepted=False\n",
            "T=0.2357, cost=1, delta=2, accepted=False\n",
            "T=0.2334, cost=1, delta=2, accepted=False\n",
            "T=0.2310, cost=1, delta=3, accepted=False\n",
            "T=0.2287, cost=1, delta=2, accepted=False\n",
            "T=0.2264, cost=1, delta=2, accepted=False\n",
            "T=0.2242, cost=1, delta=3, accepted=False\n",
            "T=0.2219, cost=1, delta=3, accepted=False\n",
            "T=0.2197, cost=1, delta=0, accepted=True\n",
            "T=0.2175, cost=1, delta=2, accepted=False\n",
            "T=0.2153, cost=1, delta=2, accepted=False\n",
            "T=0.2132, cost=1, delta=2, accepted=False\n",
            "T=0.2110, cost=1, delta=3, accepted=False\n",
            "T=0.2089, cost=1, delta=1, accepted=False\n",
            "T=0.2068, cost=1, delta=3, accepted=False\n",
            "T=0.2048, cost=1, delta=2, accepted=False\n",
            "T=0.2027, cost=1, delta=3, accepted=False\n",
            "T=0.2007, cost=1, delta=2, accepted=False\n",
            "T=0.1987, cost=1, delta=2, accepted=False\n",
            "T=0.1967, cost=1, delta=3, accepted=False\n",
            "T=0.1947, cost=1, delta=1, accepted=False\n",
            "T=0.1928, cost=1, delta=2, accepted=False\n",
            "T=0.1909, cost=1, delta=3, accepted=False\n",
            "T=0.1890, cost=1, delta=3, accepted=False\n",
            "T=0.1871, cost=1, delta=2, accepted=False\n",
            "T=0.1852, cost=1, delta=2, accepted=False\n",
            "T=0.1833, cost=1, delta=1, accepted=False\n",
            "T=0.1815, cost=1, delta=2, accepted=False\n",
            "T=0.1797, cost=1, delta=2, accepted=False\n",
            "T=0.1779, cost=1, delta=2, accepted=False\n",
            "T=0.1761, cost=1, delta=1, accepted=False\n",
            "T=0.1744, cost=1, delta=1, accepted=False\n",
            "T=0.1726, cost=1, delta=2, accepted=False\n",
            "T=0.1709, cost=1, delta=3, accepted=False\n",
            "T=0.1692, cost=1, delta=1, accepted=False\n",
            "T=0.1675, cost=1, delta=3, accepted=False\n",
            "T=0.1658, cost=1, delta=1, accepted=False\n",
            "T=0.1642, cost=1, delta=3, accepted=False\n",
            "T=0.1625, cost=1, delta=1, accepted=False\n",
            "T=0.1609, cost=1, delta=3, accepted=False\n",
            "T=0.1593, cost=1, delta=3, accepted=False\n",
            "T=0.1577, cost=1, delta=1, accepted=False\n",
            "T=0.1561, cost=1, delta=3, accepted=False\n",
            "T=0.1545, cost=1, delta=3, accepted=False\n",
            "T=0.1530, cost=1, delta=3, accepted=False\n",
            "T=0.1515, cost=1, delta=2, accepted=False\n",
            "T=0.1500, cost=1, delta=3, accepted=False\n",
            "T=0.1485, cost=1, delta=1, accepted=False\n",
            "T=0.1470, cost=1, delta=1, accepted=False\n",
            "T=0.1455, cost=1, delta=2, accepted=False\n",
            "T=0.1440, cost=1, delta=2, accepted=False\n",
            "T=0.1426, cost=1, delta=1, accepted=False\n",
            "T=0.1412, cost=1, delta=1, accepted=False\n",
            "T=0.1398, cost=1, delta=0, accepted=True\n",
            "T=0.1384, cost=1, delta=0, accepted=True\n",
            "T=0.1370, cost=1, delta=3, accepted=False\n",
            "T=0.1356, cost=1, delta=2, accepted=False\n",
            "T=0.1343, cost=1, delta=3, accepted=False\n",
            "T=0.1329, cost=1, delta=2, accepted=False\n",
            "T=0.1316, cost=1, delta=3, accepted=False\n",
            "T=0.1303, cost=1, delta=1, accepted=False\n",
            "T=0.1290, cost=1, delta=3, accepted=False\n",
            "T=0.1277, cost=1, delta=1, accepted=False\n",
            "T=0.1264, cost=1, delta=1, accepted=False\n",
            "T=0.1251, cost=1, delta=1, accepted=False\n",
            "T=0.1239, cost=1, delta=1, accepted=False\n",
            "T=0.1227, cost=1, delta=1, accepted=False\n",
            "T=0.1214, cost=1, delta=3, accepted=False\n",
            "T=0.1202, cost=1, delta=2, accepted=False\n",
            "T=0.1190, cost=1, delta=2, accepted=False\n",
            "T=0.1178, cost=1, delta=3, accepted=False\n",
            "T=0.1166, cost=1, delta=3, accepted=False\n",
            "T=0.1155, cost=1, delta=3, accepted=False\n",
            "T=0.1143, cost=1, delta=3, accepted=False\n",
            "T=0.1132, cost=1, delta=1, accepted=False\n",
            "T=0.1120, cost=1, delta=1, accepted=False\n",
            "T=0.1109, cost=1, delta=1, accepted=False\n",
            "T=0.1098, cost=1, delta=1, accepted=False\n",
            "T=0.1087, cost=1, delta=1, accepted=False\n",
            "T=0.1076, cost=1, delta=1, accepted=False\n",
            "T=0.1066, cost=1, delta=3, accepted=False\n",
            "T=0.1055, cost=1, delta=3, accepted=False\n",
            "T=0.1044, cost=1, delta=3, accepted=False\n",
            "T=0.1034, cost=1, delta=1, accepted=False\n",
            "T=0.1024, cost=1, delta=3, accepted=False\n",
            "T=0.1013, cost=1, delta=3, accepted=False\n",
            "T=0.1003, cost=1, delta=3, accepted=False\n",
            "T=0.0993, cost=1, delta=3, accepted=False\n",
            "T=0.0983, cost=1, delta=2, accepted=False\n",
            "T=0.0973, cost=1, delta=1, accepted=False\n",
            "T=0.0964, cost=1, delta=2, accepted=False\n",
            "T=0.0954, cost=1, delta=2, accepted=False\n",
            "T=0.0944, cost=1, delta=2, accepted=False\n",
            "T=0.0935, cost=1, delta=2, accepted=False\n",
            "T=0.0926, cost=1, delta=3, accepted=False\n",
            "T=0.0916, cost=1, delta=3, accepted=False\n",
            "T=0.0907, cost=1, delta=1, accepted=False\n",
            "T=0.0898, cost=1, delta=2, accepted=False\n",
            "T=0.0889, cost=1, delta=1, accepted=False\n",
            "T=0.0880, cost=1, delta=1, accepted=False\n",
            "T=0.0872, cost=1, delta=3, accepted=False\n",
            "T=0.0863, cost=1, delta=2, accepted=False\n",
            "T=0.0854, cost=1, delta=1, accepted=False\n",
            "T=0.0846, cost=1, delta=1, accepted=False\n",
            "T=0.0837, cost=1, delta=2, accepted=False\n",
            "T=0.0829, cost=1, delta=3, accepted=False\n",
            "T=0.0821, cost=1, delta=2, accepted=False\n",
            "T=0.0812, cost=1, delta=2, accepted=False\n",
            "T=0.0804, cost=1, delta=1, accepted=False\n",
            "T=0.0796, cost=1, delta=1, accepted=False\n",
            "T=0.0788, cost=1, delta=2, accepted=False\n",
            "T=0.0780, cost=1, delta=2, accepted=False\n",
            "T=0.0772, cost=1, delta=2, accepted=False\n",
            "T=0.0765, cost=1, delta=0, accepted=True\n",
            "T=0.0757, cost=1, delta=3, accepted=False\n",
            "T=0.0750, cost=1, delta=2, accepted=False\n",
            "T=0.0742, cost=1, delta=1, accepted=False\n",
            "T=0.0735, cost=1, delta=2, accepted=False\n",
            "T=0.0727, cost=1, delta=1, accepted=False\n",
            "Board with 0 conflicts.\n"
          ]
        },
        {
          "output_type": "display_data",
          "data": {
            "text/plain": [
              "<Figure size 640x480 with 1 Axes>"
            ],
            "image/png": "[encoded data removed]"
          },
          "metadata": {}
        },
        {
          "output_type": "stream",
          "name": "stdout",
          "text": [
            "Queens (left to right) are at rows: [5, 0, 4, 1, 7, 2, 6, 3]\n",
            "Number of conflicts: 0\n"
          ]
        }
      ]
    },
    {
      "cell_type": "markdown",
      "source": [
        "## Algorithm Behavior Analysis"
      ],
      "metadata": {
        "id": "wWWqoYxwV9aI"
      },
      "id": "wWWqoYxwV9aI"
    },
    {
      "cell_type": "code",
      "source": [
        "import time\n",
        "import numpy as np\n",
        "\n",
        "def objective(board):\n",
        "  \"\"\"Mengembalikan nilai negatif dari jumlah konflik sebagai skor.\"\"\"\n",
        "  return -conflicts(board)\n",
        "\n",
        "def run_behavior_analysis(board_sizes=[4, 8, 12], num_trials=100):\n",
        "    \"\"\"\n",
        "    Menjalankan analisis perilaku untuk berbagai algoritma N-Queens.\n",
        "\n",
        "    Args:\n",
        "        board_sizes (list): Daftar ukuran papan untuk diuji.\n",
        "        num_trials (int): Jumlah percobaan untuk setiap algoritma dan ukuran papan.\n",
        "    \"\"\"\n",
        "    print(\"--- Analisis Perilaku Algoritma ---\")\n",
        "    print(f\"Menjalankan setiap algoritma sebanyak {num_trials} kali untuk setiap ukuran papan.\\n\")\n",
        "\n",
        "    algorithms = {\n",
        "        \"Steepest-ascend HC\": steepest_ascend_hill_climbing,\n",
        "        \"Stochastic HC\": stochastic_hill_climbing,\n",
        "        \"First-choice HC\": first_choice_hill_climbing,\n",
        "        \"Simulated Annealing\": simulated_annealing,\n",
        "    }\n",
        "\n",
        "    # Header tabel hasil\n",
        "    header = f\"{'Algoritma':<22} | {'Ukuran Papan':<12} | {'Rata-rata Waktu (md)':<22} | {'Rata-rata Konflik':<20} | {'% Solusi Optimal':<20}\"\n",
        "    print(header)\n",
        "    print(\"-\" * len(header))\n",
        "\n",
        "    # Looping untuk setiap ukuran papan dan algoritma\n",
        "    for size in board_sizes:\n",
        "        for name, func in algorithms.items():\n",
        "            total_time = 0\n",
        "            total_conflicts = 0\n",
        "            success_count = 0\n",
        "\n",
        "            for _ in range(num_trials):\n",
        "                start_time = time.time()\n",
        "                # Memanggil fungsi algoritma dengan `size` (n), bukan papan awal\n",
        "                final_board = func(size)\n",
        "                end_time = time.time()\n",
        "\n",
        "                final_conflicts = conflicts(final_board)\n",
        "\n",
        "                total_time += (end_time - start_time)\n",
        "                total_conflicts += final_conflicts\n",
        "                if final_conflicts == 0:\n",
        "                    success_count += 1\n",
        "\n",
        "            # Kalkulasi metrik rata-rata\n",
        "            avg_time_ms = (total_time / num_trials) * 1000\n",
        "            avg_conflicts = total_conflicts / num_trials\n",
        "            success_rate = (success_count / num_trials) * 100\n",
        "\n",
        "            # Cetak hasil dalam format tabel\n",
        "            row = f\"{name:<22} | {size:<12} | {avg_time_ms:<22.4f} | {avg_conflicts:<20.2f} | {success_rate:<20.1f}%\"\n",
        "            print(row)\n",
        "        print(\"-\" * len(header))\n",
        "\n",
        "# Menjalankan fungsi analisis\n",
        "run_behavior_analysis()"
      ],
      "metadata": {
        "id": "hT8v1n6rLlfl",
        "outputId": "b3116ab3-d878-4d13-a292-d484141b6c3f",
        "colab": {
          "base_uri": "https://localhost:8080/"
        }
      },
      "id": "hT8v1n6rLlfl",
      "execution_count": 35,
      "outputs": [
        {
          "output_type": "stream",
          "name": "stdout",
          "text": [
            "--- Analisis Perilaku Algoritma ---\n",
            "Menjalankan setiap algoritma sebanyak 100 kali untuk setiap ukuran papan.\n",
            "\n",
            "Algoritma              | Ukuran Papan | Rata-rata Waktu (md)   | Rata-rata Konflik    | % Solusi Optimal    \n",
            "------------------------------------------------------------------------------------------------------------\n",
            "Steepest-ascend HC     | 4            | 0.1923                 | 0.77                 | 30.0                %\n",
            "Stochastic HC          | 4            | 1.1015                 | 0.87                 | 27.0                %\n",
            "First-choice HC        | 4            | 5.8842                 | 0.78                 | 34.0                %\n",
            "Simulated Annealing    | 4            | 0.8341                 | 0.00                 | 100.0               %\n",
            "------------------------------------------------------------------------------------------------------------\n",
            "Steepest-ascend HC     | 8            | 1.7175                 | 1.19                 | 18.0                %\n",
            "Stochastic HC          | 8            | 2.3422                 | 1.66                 | 5.0                 %\n",
            "First-choice HC        | 8            | 43.1105                | 1.27                 | 17.0                %\n",
            "Simulated Annealing    | 8            | 26.1423                | 0.46                 | 54.0                %\n",
            "------------------------------------------------------------------------------------------------------------\n",
            "Steepest-ascend HC     | 12           | 8.0585                 | 1.54                 | 9.0                 %\n",
            "Stochastic HC          | 12           | 4.5999                 | 2.85                 | 0.0                 %\n",
            "First-choice HC        | 12           | 145.0014               | 1.84                 | 4.0                 %\n",
            "Simulated Annealing    | 12           | 35.1459                | 1.16                 | 7.0                 %\n",
            "------------------------------------------------------------------------------------------------------------\n"
          ]
        }
      ]
    }
  ],
  "metadata": {
    "kernelspec": {
      "display_name": "3.10.18",
      "language": "python",
      "name": "python3"
    },
    "language_info": {
      "codemirror_mode": {
        "name": "ipython",
        "version": 3
      },
      "file_extension": ".py",
      "mimetype": "text/x-python",
      "name": "python",
      "nbconvert_exporter": "python",
      "pygments_lexer": "ipython3",
      "version": "3.10.18"
    },
    "colab": {
      "provenance": []
    }
  },
  "nbformat": 4,
  "nbformat_minor": 5
}