{
  "cells": [
    {
      "cell_type": "markdown",
      "id": "e7093ecc",
      "metadata": {
        "id": "e7093ecc"
      },
      "source": [
        "### Install Dependency"
      ]
    },
    {
      "cell_type": "code",
      "execution_count": 1,
      "id": "5f1499de",
      "metadata": {
        "id": "5f1499de"
      },
      "outputs": [],
      "source": [
        "%pip install -q matplotlib"
      ]
    },
    {
      "cell_type": "code",
      "execution_count": 2,
      "id": "852c7120",
      "metadata": {
        "id": "852c7120"
      },
      "outputs": [],
      "source": [
        "import numpy as np\n",
        "import matplotlib.pyplot as plt\n",
        "from matplotlib import colors\n",
        "\n",
        "np.random.seed(1234)"
      ]
    },
    {
      "cell_type": "markdown",
      "id": "73bee1ae",
      "metadata": {
        "id": "73bee1ae"
      },
      "source": [
        "## Helper Function"
      ]
    },
    {
      "cell_type": "markdown",
      "id": "6d220e11",
      "metadata": {
        "id": "6d220e11"
      },
      "source": [
        "### Random Board Function"
      ]
    },
    {
      "cell_type": "code",
      "execution_count": 3,
      "id": "846cbf2b",
      "metadata": {
        "id": "846cbf2b"
      },
      "outputs": [],
      "source": [
        "def random_board(n):\n",
        "    \"\"\"Creates a random board of size n x n. Note that only a single queen is placed in each column!\"\"\"\n",
        "\n",
        "    return(np.random.randint(0,n, size = n))"
      ]
    },
    {
      "cell_type": "markdown",
      "id": "25c54122",
      "metadata": {
        "id": "25c54122"
      },
      "source": [
        "### Conflicts Board Function"
      ]
    },
    {
      "cell_type": "code",
      "execution_count": 4,
      "id": "6fa04509",
      "metadata": {
        "id": "6fa04509"
      },
      "outputs": [],
      "source": [
        "def comb2(n): return n*(n-1)//2 # this is n choose 2 equivalent to math.comb(n, 2); // is int division\n",
        "\n",
        "def conflicts(board):\n",
        "    \"\"\"Calculate the number of conflicts, i.e., the objective function.\"\"\"\n",
        "\n",
        "    n = len(board)\n",
        "\n",
        "    horizontal_cnt = [0] * n\n",
        "    diagonal1_cnt = [0] * 2 * n\n",
        "    diagonal2_cnt = [0] * 2 * n\n",
        "\n",
        "    for i in range(n):\n",
        "        horizontal_cnt[board[i]] += 1\n",
        "        diagonal1_cnt[i + board[i]] += 1\n",
        "        diagonal2_cnt[i - board[i] + n] += 1\n",
        "\n",
        "    return sum(map(comb2, horizontal_cnt + diagonal1_cnt + diagonal2_cnt))"
      ]
    },
    {
      "cell_type": "markdown",
      "id": "954d05dc",
      "metadata": {
        "id": "954d05dc"
      },
      "source": [
        "### Show Board Function"
      ]
    },
    {
      "cell_type": "code",
      "execution_count": 5,
      "id": "380538a7",
      "metadata": {
        "id": "380538a7"
      },
      "outputs": [],
      "source": [
        "# decrease the font size to fit larger boards\n",
        "def show_board(board, cols = ['white', 'gray'], fontsize = 48):\n",
        "    \"\"\"display the board\"\"\"\n",
        "\n",
        "    n = len(board)\n",
        "\n",
        "    # create chess board display\n",
        "    display = np.zeros([n,n])\n",
        "    for i in range(n):\n",
        "        for j in range(n):\n",
        "            if (((i+j) % 2) != 0):\n",
        "                display[i,j] = 1\n",
        "\n",
        "    cmap = colors.ListedColormap(cols)\n",
        "    fig, ax = plt.subplots()\n",
        "    ax.imshow(display, cmap = cmap,\n",
        "              norm = colors.BoundaryNorm(range(len(cols)+1), cmap.N))\n",
        "    ax.set_xticks([])\n",
        "    ax.set_yticks([])\n",
        "\n",
        "    # place queens. Note: Unicode u265B is a black queen\n",
        "    for j in range(n):\n",
        "        plt.text(j, board[j], u\"\\u265B\", fontsize = fontsize,\n",
        "                 horizontalalignment = 'center',\n",
        "                 verticalalignment = 'center')\n",
        "\n",
        "    print(f\"Board with {conflicts(board)} conflicts.\")\n",
        "    plt.show()"
      ]
    },
    {
      "cell_type": "code",
      "execution_count": 6,
      "id": "7a3858d8",
      "metadata": {
        "id": "7a3858d8",
        "outputId": "1ec6035a-9607-44c8-d843-66bc781a31e1",
        "colab": {
          "base_uri": "https://localhost:8080/",
          "height": 458
        }
      },
      "outputs": [
        {
          "output_type": "stream",
          "name": "stdout",
          "text": [
            "Board with 4 conflicts.\n"
          ]
        },
        {
          "output_type": "display_data",
          "data": {
            "text/plain": [
              "<Figure size 640x480 with 1 Axes>"
            ],
            "image/png": "[encoded data removed]"
          },
          "metadata": {}
        },
        {
          "output_type": "stream",
          "name": "stdout",
          "text": [
            "Queens (left to right) are at rows: [3 3 2 1]\n",
            "Number of conflicts: 4\n"
          ]
        }
      ],
      "source": [
        "board = random_board(4)\n",
        "\n",
        "show_board(board)\n",
        "print(f\"Queens (left to right) are at rows: {board}\")\n",
        "print(f\"Number of conflicts: {conflicts(board)}\")"
      ]
    },
    {
      "cell_type": "markdown",
      "source": [
        "### Objective and Generate Neighbors Function"
      ],
      "metadata": {
        "id": "C3ooGLoxBIre"
      },
      "id": "C3ooGLoxBIre"
    },
    {
      "cell_type": "code",
      "execution_count": 165,
      "id": "5ee35c50",
      "metadata": {
        "id": "5ee35c50"
      },
      "outputs": [],
      "source": [
        "import random\n",
        "\n",
        "# objective of the problem (find the highest value = 0)\n",
        "def objective(board):\n",
        "  return -conflicts(board)\n",
        "\n",
        "def generate_neighbors(board):\n",
        "  n = len(board)\n",
        "  neighbors = []\n",
        "  for col in range(n):\n",
        "    for row in range(n):\n",
        "      if board[col] != row:\n",
        "        new_board = board[:]\n",
        "        new_board[col] = row\n",
        "        neighbors.append(new_board)\n",
        "\n",
        "  return neighbors\n"
      ]
    },
    {
      "cell_type": "markdown",
      "id": "27ff2686",
      "metadata": {
        "id": "27ff2686"
      },
      "source": [
        "### Steepest-ascend Hill Climbing"
      ]
    },
    {
      "cell_type": "code",
      "execution_count": 166,
      "id": "d01b90dc",
      "metadata": {
        "id": "d01b90dc",
        "outputId": "c230e055-bba7-4d23-a3df-dba6c2e0ea75",
        "colab": {
          "base_uri": "https://localhost:8080/",
          "height": 478
        }
      },
      "outputs": [
        {
          "output_type": "stream",
          "name": "stdout",
          "text": [
            "Board with 0 conflicts.\n"
          ]
        },
        {
          "output_type": "display_data",
          "data": {
            "text/plain": [
              "<Figure size 640x480 with 1 Axes>"
            ],
            "image/png": "[encoded data removed]"
          },
          "metadata": {}
        },
        {
          "output_type": "stream",
          "name": "stdout",
          "text": [
            "Queens (left to right) are at rows: [3, 5, 7, 2, 0, 6, 4, 1]\n",
            "Number of conflicts: 0\n"
          ]
        }
      ],
      "source": [
        "def steepest_ascend_hill_climbing(n, max_iter=1000):\n",
        "\n",
        "  current = [random.randint(0, n-1) for _ in range(n)]\n",
        "\n",
        "  for _ in range(max_iter):\n",
        "    current_objective = objective(current)\n",
        "    neighbors = generate_neighbors(current)\n",
        "\n",
        "    best_neighbors = max(neighbors, key=objective)\n",
        "    best_objective = objective(best_neighbors)\n",
        "\n",
        "    if best_objective <= current_objective:\n",
        "      return current\n",
        "\n",
        "    current = best_neighbors\n",
        "\n",
        "  return current\n",
        "\n",
        "\n",
        "solution = steepest_ascend_hill_climbing(8)\n",
        "\n",
        "show_board(solution)\n",
        "print(f\"Queens (left to right) are at rows: {solution}\")\n",
        "print(f\"Number of conflicts: {conflicts(solution)}\")"
      ]
    },
    {
      "cell_type": "markdown",
      "metadata": {
        "id": "z3y33u6vAy6W"
      },
      "source": [
        "### Stochastic Hill Climbing"
      ],
      "id": "z3y33u6vAy6W"
    },
    {
      "cell_type": "code",
      "execution_count": 163,
      "metadata": {
        "colab": {
          "base_uri": "https://localhost:8080/",
          "height": 478
        },
        "id": "HMkW9VhrAy6W",
        "outputId": "e42ba11f-5f61-45e3-8041-7834789f7cab"
      },
      "outputs": [
        {
          "output_type": "stream",
          "name": "stdout",
          "text": [
            "Board with 1 conflicts.\n"
          ]
        },
        {
          "output_type": "display_data",
          "data": {
            "text/plain": [
              "<Figure size 640x480 with 1 Axes>"
            ],
            "image/png": "[encoded data removed]"
          },
          "metadata": {}
        },
        {
          "output_type": "stream",
          "name": "stdout",
          "text": [
            "Queens (left to right) are at rows: [4, 1, 7, 5, 2, 6, 3, 0]\n",
            "Number of conflicts: 1\n"
          ]
        }
      ],
      "source": [
        "def stochastic_hill_climbing(n, max_iter=100):\n",
        "\n",
        "  current = [random.randint(0, n-1) for _ in range(n)]\n",
        "\n",
        "  for _ in range(max_iter):\n",
        "    current_objective = objective(current)\n",
        "    neighbors = generate_neighbors(current)\n",
        "\n",
        "    best_neighbor = random.choice(neighbors)\n",
        "    best_objective = objective(best_neighbor)\n",
        "\n",
        "    if best_objective > current_objective:\n",
        "      current = best_neighbor\n",
        "\n",
        "  return current\n",
        "\n",
        "solution = stochastic_hill_climbing(8)\n",
        "\n",
        "show_board(solution)\n",
        "print(f\"Queens (left to right) are at rows: {solution}\")\n",
        "print(f\"Number of conflicts: {conflicts(solution)}\")\n",
        ""
      ],
      "id": "HMkW9VhrAy6W"
    },
    {
      "cell_type": "markdown",
      "metadata": {
        "id": "WTGtz1slFmK5"
      },
      "source": [
        "### First Hill Climbing"
      ],
      "id": "WTGtz1slFmK5"
    },
    {
      "cell_type": "code",
      "execution_count": 179,
      "metadata": {
        "outputId": "69e55d1d-09a7-4cc3-e2e2-47466a05f971",
        "colab": {
          "base_uri": "https://localhost:8080/",
          "height": 468
        },
        "id": "-WFpAiiaFmK6"
      },
      "outputs": [
        {
          "output_type": "stream",
          "name": "stdout",
          "text": [
            "Board with 2 conflicts.\n"
          ]
        },
        {
          "output_type": "display_data",
          "data": {
            "text/plain": [
              "<Figure size 640x480 with 1 Axes>"
            ],
            "image/png": "[encoded data removed]"
          },
          "metadata": {}
        },
        {
          "output_type": "stream",
          "name": "stdout",
          "text": [
            "Queens (left to right) are at rows: [6, 3, 5, 2, 5, 0, 4, 1]\n",
            "Number of conflicts: 2\n"
          ]
        }
      ],
      "source": [
        "def first_hill_climbing(n, max_iter=100):\n",
        "\n",
        "  current = [random.randint(0, n-1) for _ in range(n)]\n",
        "\n",
        "  for _ in range(max_iter):\n",
        "    current_objective = objective(current)\n",
        "    neighbors = generate_neighbors(current)\n",
        "    random.shuffle(neighbors)\n",
        "\n",
        "    for neighbor in neighbors:\n",
        "      neighbor_objective = objective(neighbor)\n",
        "      if neighbor_objective > current_objective:\n",
        "        current = neighbor\n",
        "        break\n",
        "\n",
        "  return current\n",
        "\n",
        "solution = first_hill_climbing(8)\n",
        "\n",
        "show_board(solution)\n",
        "print(f\"Queens (left to right) are at rows: {solution}\")\n",
        "print(f\"Number of conflicts: {conflicts(solution)}\")\n"
      ],
      "id": "-WFpAiiaFmK6"
    }
  ],
  "metadata": {
    "kernelspec": {
      "display_name": "3.10.18",
      "language": "python",
      "name": "python3"
    },
    "language_info": {
      "codemirror_mode": {
        "name": "ipython",
        "version": 3
      },
      "file_extension": ".py",
      "mimetype": "text/x-python",
      "name": "python",
      "nbconvert_exporter": "python",
      "pygments_lexer": "ipython3",
      "version": "3.10.18"
    },
    "colab": {
      "provenance": []
    }
  },
  "nbformat": 4,
  "nbformat_minor": 5
}