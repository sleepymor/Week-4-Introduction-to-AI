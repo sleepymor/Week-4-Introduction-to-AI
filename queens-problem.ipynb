{
 "cells": [
  {
   "cell_type": "markdown",
   "id": "e7093ecc",
   "metadata": {},
   "source": [
    "### Install Dependency"
   ]
  },
  {
   "cell_type": "code",
   "execution_count": 3,
   "id": "5f1499de",
   "metadata": {},
   "outputs": [
    {
     "name": "stdout",
     "output_type": "stream",
     "text": [
      "\n",
      "\u001b[1m[\u001b[0m\u001b[34;49mnotice\u001b[0m\u001b[1;39;49m]\u001b[0m\u001b[39;49m A new release of pip is available: \u001b[0m\u001b[31;49m23.0.1\u001b[0m\u001b[39;49m -> \u001b[0m\u001b[32;49m25.2\u001b[0m\n",
      "\u001b[1m[\u001b[0m\u001b[34;49mnotice\u001b[0m\u001b[1;39;49m]\u001b[0m\u001b[39;49m To update, run: \u001b[0m\u001b[32;49mpip install --upgrade pip\u001b[0m\n",
      "Note: you may need to restart the kernel to use updated packages.\n"
     ]
    }
   ],
   "source": [
    "%pip install -q matplotlib"
   ]
  },
  {
   "cell_type": "code",
   "execution_count": null,
   "id": "852c7120",
   "metadata": {},
   "outputs": [],
   "source": [
    "import numpy as np\n",
    "import matplotlib.pyplot as plt\n",
    "from matplotlib import colors\n",
    "\n",
    "np.random.seed(1234)"
   ]
  },
  {
   "cell_type": "markdown",
   "id": "73bee1ae",
   "metadata": {},
   "source": [
    "## Helper Function"
   ]
  },
  {
   "cell_type": "markdown",
   "id": "6d220e11",
   "metadata": {},
   "source": [
    "### Random Board Function"
   ]
  },
  {
   "cell_type": "code",
   "execution_count": null,
   "id": "846cbf2b",
   "metadata": {},
   "outputs": [],
   "source": [
    "def random_board(n):\n",
    "    \"\"\"Creates a random board of size n x n. Note that only a single queen is placed in each column!\"\"\"\n",
    "\n",
    "    return(np.random.randint(0,n, size = n))"
   ]
  },
  {
   "cell_type": "markdown",
   "id": "25c54122",
   "metadata": {},
   "source": [
    "### Conflicts Board Function"
   ]
  },
  {
   "cell_type": "code",
   "execution_count": 8,
   "id": "6fa04509",
   "metadata": {},
   "outputs": [],
   "source": [
    "def comb2(n): return n*(n-1)//2 # this is n choose 2 equivalent to math.comb(n, 2); // is int division\n",
    "\n",
    "def conflicts(board):\n",
    "    \"\"\"Calculate the number of conflicts, i.e., the objective function.\"\"\"\n",
    "\n",
    "    n = len(board)\n",
    "\n",
    "    horizontal_cnt = [0] * n\n",
    "    diagonal1_cnt = [0] * 2 * n\n",
    "    diagonal2_cnt = [0] * 2 * n\n",
    "\n",
    "    for i in range(n):\n",
    "        horizontal_cnt[board[i]] += 1\n",
    "        diagonal1_cnt[i + board[i]] += 1\n",
    "        diagonal2_cnt[i - board[i] + n] += 1\n",
    "\n",
    "    return sum(map(comb2, horizontal_cnt + diagonal1_cnt + diagonal2_cnt))"
   ]
  },
  {
   "cell_type": "markdown",
   "id": "954d05dc",
   "metadata": {},
   "source": [
    "### Show Board Function"
   ]
  },
  {
   "cell_type": "code",
   "execution_count": 122,
   "id": "380538a7",
   "metadata": {},
   "outputs": [],
   "source": [
    "# decrease the font size to fit larger boards\n",
    "def show_board(board, cols = ['white', 'gray'], fontsize = 48):\n",
    "    \"\"\"display the board\"\"\"\n",
    "\n",
    "    n = len(board)\n",
    "\n",
    "    # create chess board display\n",
    "    display = np.zeros([n,n])\n",
    "    for i in range(n):\n",
    "        for j in range(n):\n",
    "            if (((i+j) % 2) != 0):\n",
    "                display[i,j] = 1\n",
    "\n",
    "    cmap = colors.ListedColormap(cols)\n",
    "    fig, ax = plt.subplots()\n",
    "    ax.imshow(display, cmap = cmap,\n",
    "              norm = colors.BoundaryNorm(range(len(cols)+1), cmap.N))\n",
    "    ax.set_xticks([])\n",
    "    ax.set_yticks([])\n",
    "\n",
    "    # place queens. Note: Unicode u265B is a black queen\n",
    "    for j in range(n):\n",
    "        plt.text(j, board[j], u\"\\u265B\", fontsize = fontsize,\n",
    "                 horizontalalignment = 'center',\n",
    "                 verticalalignment = 'center')\n",
    "\n",
    "    print(f\"Board with {conflicts(board)} conflicts.\")\n",
    "    plt.show()"
   ]
  },
  {
   "cell_type": "code",
   "execution_count": 177,
   "id": "7a3858d8",
   "metadata": {},
   "outputs": [
    {
     "name": "stdout",
     "output_type": "stream",
     "text": [
      "Board with 4 conflicts.\n"
     ]
    },
    {
     "data": {
      "image/png": "[encoded data removed]",
      "text/plain": [
       "<Figure size 640x480 with 1 Axes>"
      ]
     },
     "metadata": {},
     "output_type": "display_data"
    },
    {
     "name": "stdout",
     "output_type": "stream",
     "text": [
      "Queens (left to right) are at rows: [2 2 0 0]\n",
      "Number of conflicts: 4\n"
     ]
    }
   ],
   "source": [
    "board = random_board(4)\n",
    "\n",
    "show_board(board)\n",
    "print(f\"Queens (left to right) are at rows: {board}\")\n",
    "print(f\"Number of conflicts: {conflicts(board)}\")"
   ]
  },
  {
   "cell_type": "markdown",
   "id": "27ff2686",
   "metadata": {},
   "source": [
    "### Steepest-ascend Hill Climbing Search"
   ]
  },
  {
   "cell_type": "code",
   "execution_count": 207,
   "id": "d01b90dc",
   "metadata": {},
   "outputs": [
    {
     "name": "stdout",
     "output_type": "stream",
     "text": [
      "Board with 0 conflicts.\n"
     ]
    },
    {
     "data": {
      "image/png": "[encoded data removed]",
      "text/plain": [
       "<Figure size 640x480 with 1 Axes>"
      ]
     },
     "metadata": {},
     "output_type": "display_data"
    },
    {
     "name": "stdout",
     "output_type": "stream",
     "text": [
      "Queens (left to right) are at rows: [1, 3, 0, 2]\n",
      "Number of conflicts: 0\n"
     ]
    }
   ],
   "source": [
    "import random\n",
    "\n",
    "# objective of the problem (find the highest value = 0)\n",
    "def objective(board):\n",
    "  return -conflicts(board)\n",
    "\n",
    "def generate_neighbors(board):\n",
    "  n = len(board)\n",
    "  neighbors = []\n",
    "  for col in range(n):\n",
    "    for row in range(n):\n",
    "      if board[col] != row:\n",
    "        new_board = board[:]\n",
    "        new_board[col] = row\n",
    "        neighbors.append(new_board)\n",
    "\n",
    "  return neighbors\n",
    "\n",
    "def steepest_ascend_hill_climbing(n, max_iter=1000):\n",
    "  \n",
    "  current = [random.randint(0, n-1) for _ in range(n)]\n",
    "\n",
    "  for _ in range(max_iter):\n",
    "    current_objective = objective(current)\n",
    "    neighbors = generate_neighbors(current)\n",
    "\n",
    "    best_neighbor = max(neighbors, key=objective)\n",
    "    best_objective = objective(best_neighbor)\n",
    "\n",
    "    if best_objective <= current_objective:\n",
    "      return current\n",
    "\n",
    "    current = best_neighbor\n",
    "\n",
    "  return current\n",
    "\n",
    "\n",
    "solution = steepest_ascend_hill_climbing(4)\n",
    "\n",
    "show_board(solution)\n",
    "print(f\"Queens (left to right) are at rows: {solution}\")\n",
    "print(f\"Number of conflicts: {conflicts(solution)}\")"
   ]
  },
  {
   "cell_type": "code",
   "execution_count": null,
   "id": "5ee35c50",
   "metadata": {},
   "outputs": [],
   "source": []
  }
 ],
 "metadata": {
  "kernelspec": {
   "display_name": "3.10.18",
   "language": "python",
   "name": "python3"
  },
  "language_info": {
   "codemirror_mode": {
    "name": "ipython",
    "version": 3
   },
   "file_extension": ".py",
   "mimetype": "text/x-python",
   "name": "python",
   "nbconvert_exporter": "python",
   "pygments_lexer": "ipython3",
   "version": "3.10.18"
  }
 },
 "nbformat": 4,
 "nbformat_minor": 5
}
